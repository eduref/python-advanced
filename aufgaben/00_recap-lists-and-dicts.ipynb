{
 "cells": [
  {
   "cell_type": "markdown",
   "metadata": {},
   "source": [
    "## Einführung in Listen und Dictionaries in Python\n",
    "\n",
    "In dieser Lektion werden wir uns mit Datentypen beschäftigen, die es uns ermöglichen mehrere Informationen, wie z.B. mehrere Zahlen oder Namen auf einmal abzuspeichern. In Python lässt sich dies gut mit Listen und Dictionaries umsetzen.\n",
    "\n",
    "### Warum brauchen wir Listen?\n",
    "\n",
    "Stell dir vor, du möchtest allen deinen Freunden eine Email schreiben. Nun könntest du in Python für jeden deiner Freunde eine Variable erstellen:  \n",
    "```python\n",
    "freund1 = \"anne\"\n",
    "freund2 = \"mustafa\"\n",
    "freund3 = \"steven\"\n",
    "```\n",
    "\n",
    "Dies ist aber sehr aufwendig. Vergleich dagegen mal den Code, wenn du stattdessen eine **Liste** verwendest: \n",
    "```python\n",
    "freunde = [\"anne\", \"mustafa\", \"steven\"]\n",
    "```\n",
    "Gleich viel besser, oder?\n",
    "Listen ermöglichen es uns also Daten effizient abzuspeichern und schnell auf diese zugreifen zu können 🤓\n"
   ]
  },
  {
   "cell_type": "markdown",
   "metadata": {},
   "source": [
    "### Wie erstelle ich Listen?\n",
    "\n",
    "In python werden Listen ganz einfach mit den eckigen Klammern `[]` definiert: \n",
    "```python \n",
    "freunde = [\"anne\", \"mustafa\", \"steven\"]\n",
    "```\n",
    "\n",
    "<br>"
   ]
  },
  {
   "cell_type": "markdown",
   "metadata": {},
   "source": [
    "### Wie greife ich auf den Inhalt von Listen zu?\n",
    "\n",
    "In python können wir auf einzelne Elemente (also Einträge) von Listen zugreifen, in dem wir ihren Index angeben.\n",
    "Zum Beispiel \n",
    "```python \n",
    "freunde = [\"anne\", \"mustafa\", \"steven\"]\n",
    "print(freunde[0]) # hier wählen wir den index 0 und erhalten daher \"anne\" zurück\n",
    "print(freunde[2]) # hier wählen wir den index 0 und erhalten daher \"steven\" zurück\n",
    "# anne\n",
    "# steven\n",
    "```\n",
    "\n",
    "☝️ **Wichtig**: Denk daran, dass wir in python immer bei 0 anfangen zu zählen. Wenn wir also das erste Element ausgeben möchten, müssen wir `freunde[0]` verwenden\n"
   ]
  },
  {
   "cell_type": "markdown",
   "metadata": {},
   "source": [
    "### Aufgabe 1: Eine Einkaufsliste erstellen\n",
    "Erstelle eine Liste mit mindestens fünf Dingen, die du im Supermarkt kaufen möchtest, und gib die Liste aus.\n",
    "Greife auf das erste und das dritte Element deiner Einkaufsliste zu und gib sie aus."
   ]
  },
  {
   "cell_type": "code",
   "execution_count": null,
   "metadata": {},
   "outputs": [],
   "source": [
    "# erstelle hier deine liste und gib die elemente aus der liste aus"
   ]
  },
  {
   "cell_type": "markdown",
   "metadata": {},
   "source": [
    "<br> \n",
    "\n",
    "### Wie arbeite ich mit Listen?\n",
    "\n",
    "Auch nachdem du eine Liste erstellt hast, kannst du sie in Python noch bearbeiten. Beispielsweise um neue Freunde hinzuzufügen 😺 oder alte Freunde zu entfernen 😿 <br>\n",
    "Neue Elemente kannst du mit **.append()** hinzufügen. Sie werden stets am Ende der Liste angehängt Zum Beispiel:\n",
    "```python \n",
    "freunde = [\"anne\", \"mustafa\", \"steven\"]\n",
    "freunde.append(\"iri\")\n",
    "print(freunde)\n",
    "# [\"anne\", \"mustafa\", \"steven\", \"iri\"]\n",
    "```\n",
    "<br>\n",
    "\n",
    "Elemente, die schon in der Liste sind, kannst du mit **.remove()** entfernen. Hierbei musst du den Index des Elements, welches gelöscht werden soll übergeben:\n",
    "```python \n",
    "freunde = [\"anne\", \"mustafa\", \"steven\"]\n",
    "freunde.remove(1)\n",
    "print(freunde)\n",
    "# [\"anne\", \"steven\"]\n",
    "```\n",
    "<br>\n",
    "\n",
    "Außerdem kannst du dir die Länge einer Liste ausgeben mit \n",
    "```python \n",
    "print(len(meine_liste))\n",
    "```\n",
    "\n",
    "<br>"
   ]
  },
  {
   "cell_type": "markdown",
   "metadata": {},
   "source": [
    "### Aufgabe 2: Deine Einkaufsliste anpassen\n",
    "Vewende hier wieder deine Einkaufsliste mit mindestens fünf Dingen, die du im Supermarkt kaufen möchtest (du kannst den Code einfach von oben kopieren). Entferne nun zwei Elemente (du kannst selber aussuchen welche) und füge drei neue Elemente hinzu. \\\n",
    "Gib dann noch die Länge der Liste aus"
   ]
  },
  {
   "cell_type": "code",
   "execution_count": null,
   "metadata": {},
   "outputs": [],
   "source": [
    "# arbeite hier mit der liste"
   ]
  },
  {
   "cell_type": "markdown",
   "metadata": {},
   "source": [
    "Sehr gut 🚀 Ich glaube du hast das Thema Listen gut verstanden. Falls du noch Fragen hast kannst du dich gerne jederzeit an einen unserer Tutoren wenden 😄 <br>\n",
    "Im nächsten Abschnitt geht es dann mit Dictionaries weiter.\n",
    "<br>\n",
    "\n",
    "<br>"
   ]
  },
  {
   "cell_type": "markdown",
   "metadata": {},
   "source": [
    "## Was sind Dictionaries?\n",
    "Mit Dictionaries können wir in Python ähnlich wie mit Listen einfach große Mengen an Daten abspeichern. Schauen wir uns erstmal an, was ein Dictionary ist: <br>\n",
    "Ein Dictionary besteht stets aus einem oder mehreren **key-value Paaren**. Dabei ist ein \n",
    "* **value** immer ein Wert bzw. Daten 💾, die wir abspeichern möchten und \n",
    "* **key** ein eindeutiger Schlüssel 🔑 (wie ein Name oder eine ID), der es uns ermöglichen den jeweiligen Wert zu finden. <br>\n",
    "\n",
    "Stell dir vor, du möchtest nun die Augenfarben deiner drei Freunde abspeichern:\n",
    "* *Anne*: blaue Augen, \n",
    "* *Mustafa*: grüne Augen und \n",
    "* *Steven*: braune Augen <br>\n",
    "\n",
    "Hierbei wäre der **key** dann der Name deines Freundes (z.B. Anne) und der **value** die Augenfarbe (z.B. blau). <br> \n",
    "Ein Dictionary könnte dann wie folgt aussehen:\n",
    "```python\n",
    "meine_freunde = {\n",
    "    \"Anne\": \"blau\", \n",
    "    \"Mustafa\": \"grün\",\n",
    "    \"Steven\": \"braun\"\n",
    "    }\n",
    "```\n",
    "\n",
    "Hier sehen wir auch gleich einen großen Vorteil von Dictionaries: Durch den **key** 🔑 können wir ganz gezielt auf bestimmte Daten zugreifen und müssen uns nicht mehr merken, an welchem Index welche Informationen zu finden sind."
   ]
  },
  {
   "cell_type": "markdown",
   "metadata": {},
   "source": [
    "### Wie arbeite ich mit Dictionaries?\n",
    "\n",
    "\n",
    "#### Erstellung eines Dictionaries\n",
    "Um ein Dictionarie zu erstellen verwenden wir die geschweiften Klammern `{}`. Innerhalb der Klammern zählen wir unsere key-value Paare auf, getrennt durch Kommas:\n",
    "```python\n",
    "meine_daten = {\"Name\": \"Alice\", \"Alter\": 25}\n",
    "print(meine_daten)\n",
    "```\n",
    "\n",
    "#### Zugriff auf Werte\n",
    "Um auf die Werte eines Dictionaries zuzugreifen verwenden wir die eckigen Klammern `[]` und den Key des jeweiligen Wertes, auf den wir zugreifen möchten\n",
    "```python\n",
    "print(meine_daten[\"Name\"])\n",
    "# Alice\n",
    "print(meine_daten[\"Alter\"])\n",
    "# 25\n",
    "```\n",
    "\n",
    "#### Werte hinzufügen oder ändern\n",
    "Um bestimmte values zu ändern oder neue values hinzuzufügen verwenden wir die eckigen Klammern `[]` und weisen mit `=` einen neuen Wert zu\n",
    "```python\n",
    "meine_daten[\"Beruf\"] = \"Entwickler\"\n",
    "print(meine_daten)\n",
    "#{\"Name\": \"Alice\", \"Alter\": 25, \"Beruf\": \"Entwickler\"}\n",
    "\n",
    "meine_daten[\"Alter\"] = 33\n",
    "print(meine_daten)\n",
    "#{\"Name\": \"Alice\", \"Alter\": 33, \"Beruf\": \"Entwickler\"}\n",
    "```"
   ]
  },
  {
   "cell_type": "markdown",
   "metadata": {},
   "source": [
    "### Aufgabe 3: Ein Dictionary für Kontakte erstellen\n",
    "Erstelle ein Dictionary, in dem du die Augenfarbe und das Alter von drei Freunden speicherst. Gib das Dictionary aus."
   ]
  },
  {
   "cell_type": "code",
   "execution_count": 2,
   "metadata": {},
   "outputs": [],
   "source": [
    "# erstelle hier dein dictionary"
   ]
  },
  {
   "cell_type": "markdown",
   "metadata": {},
   "source": [
    "### Aufgabe 4: Einen Kontakt ändern\n",
    "Einer deiner Freunde hat Geburtstag! Ändere sein Alter und gib das aktualisierte Dictionary aus."
   ]
  },
  {
   "cell_type": "code",
   "execution_count": 3,
   "metadata": {},
   "outputs": [],
   "source": [
    "# ändere hier das Alter eines deiner Freunde"
   ]
  },
  {
   "cell_type": "markdown",
   "metadata": {},
   "source": [
    "### Aufgabe 5: Teilnehmerliste erweitern\n",
    "Bei Eduref hast du einen neuen Freund gefunden 💚 Frag deinen Sitznachbarn/ deine Sitznachbarin wie er/sie heißt und wie alt er/sie ist und füge sie zu dem dictionary hinzu "
   ]
  },
  {
   "cell_type": "code",
   "execution_count": 4,
   "metadata": {},
   "outputs": [],
   "source": [
    "# füge hier einen neuen Freund hinzu"
   ]
  },
  {
   "cell_type": "markdown",
   "metadata": {},
   "source": [
    "<br>\n",
    "Mit dem Befehl del können wir auch Einträge aus unserem Dictionary entfernen. Zum Beispiel:\n",
    "\n",
    "\n",
    "```python\n",
    "meine_daten = {\"Name\": \"Alice\", \"Alter\": 25}\n",
    "del meine_daten[\"Alter\"]\n",
    "print(meine_daten)\n",
    "#{\"Name\": \"Alice\"}\n",
    "```\n",
    "\n",
    "<br>\n",
    "\n",
    "In einem Dictionary können wir auch kompliziertere Datentypen wie Listen oder sogar auch andere Dicitonaries speichern:\n",
    "```python\n",
    "teilnehmer_details = {\n",
    "    \"Freunde\": [{\"Name\": \"Emilia\", \"Alter\": 25}, {\"Name\": \"Bob\", \"Alter\": 30}]\n",
    "}\n",
    "```\n",
    "\n",
    "<br>"
   ]
  },
  {
   "cell_type": "markdown",
   "metadata": {},
   "source": [
    "## For-Loops und Listen & Dictionaries\n",
    "Oft wollen wir nicht nur auf einen Wert einer Liste oder eines Dictionaries zugreifen, sondern auf alle Werte (bspw. um sie zu sortieren).\n",
    "\n",
    "Für Listen können wir dies einfach mit einer Liste umsetzen:\n",
    "```python\n",
    "woerter = [\"e\", \"d\", \"u\", \"r\", \"e\", \"f\"]\n",
    "\n",
    "for wort in woerter:\n",
    "    print(wort)\n",
    " # e\n",
    " # d\n",
    " # u\n",
    " # r\n",
    " # e\n",
    " # f   \n",
    "```"
   ]
  },
  {
   "cell_type": "markdown",
   "metadata": {},
   "source": [
    "\n",
    "Bei dictionaries brauchen wir die **.keys()**, **.values()** und die **.items()** Methoden:\n",
    "```python\n",
    "meine_freunde = {\n",
    "    \"Anne\": \"blau\", \n",
    "    \"Mustafa\": \"grün\",\n",
    "    \"Steven\": \"braun\"\n",
    "    }\n",
    "```\n",
    "\n",
    "Mit **.keys()** können wir über die Schlüssel iterieren:\n",
    "```python\n",
    "for key in meine_freunde.keys():\n",
    "    print(key)\n",
    "# Anne\n",
    "# Mustafa\n",
    "# Steven\n",
    "```\n",
    "Mit **.values()** können wir über die Werte iterieren:\n",
    "```python\n",
    "for value in meine_freunde.keys():\n",
    "    print(value)\n",
    "# blau\n",
    "# grün\n",
    "# braun\n",
    "```\n",
    "\n",
    "Mit **.items()** können wir über die Schlüssel und Werte gleichzeitig iterieren:\n",
    "```python\n",
    "for key, value in meine_freunde.items():\n",
    "    print(key, value)\n",
    "# Anne, blau\n",
    "# Mustafa, grün\n",
    "# Steven, Mustafa\n",
    "```"
   ]
  },
  {
   "cell_type": "markdown",
   "metadata": {},
   "source": [
    "### Aufgabe 6: Gib alle Zahlen in der folgenden Liste in der vorgegebenen Reihenfolge aus\n",
    "Unten erhälst du eine Liste mit Namen und Altersangaben. Durchlaufe nun diese Liste und gib nur das Alter aus."
   ]
  },
  {
   "cell_type": "code",
   "execution_count": 4,
   "metadata": {},
   "outputs": [],
   "source": [
    "nested_list = [\n",
    "    [\"Alice\", 25],\n",
    "    [\"Juan\", 30],\n",
    "    [\"Chloe\", 22],\n",
    "    [\"Raj\", 28],\n",
    "    [\"Liu Wei\", 35],\n",
    "    [\"Amina\", 27],\n",
    "    [\"Max\", 40]\n",
    "]\n",
    "# Erwartete Ausgabe: 25, 30, 22, 28, 35, 27, 40"
   ]
  },
  {
   "cell_type": "markdown",
   "metadata": {},
   "source": [
    "### Aufgabe 7: Erstelle aus dem Dictionary eine Liste\n",
    "Unten erhälst du nun die gleichen Informationen als Dictionary. Erstelle aus diesem Dictionary nun eine Liste:"
   ]
  },
  {
   "cell_type": "code",
   "execution_count": 5,
   "metadata": {},
   "outputs": [],
   "source": [
    "freunde_dict = {\n",
    "    'Alice': 25,\n",
    "    'Juan': 30,\n",
    "    'Chloe': 22,\n",
    "    'Raj': 28,\n",
    "    'Liu Wei': 35,\n",
    "    'Amina': 27,\n",
    "    'Max': 40\n",
    "}\n",
    "# Erwartete Ausgabe:\n",
    "# [[\"Alice\", 25], [\"Juan\", 30], [\"Chloe\", 22], [\"Raj\", 28], [\"Liu Wei\", 35], [\"Amina\", 27], [\"Max\", 40]]"
   ]
  },
  {
   "cell_type": "markdown",
   "metadata": {},
   "source": [
    "## Bonus X: Wörter zählen\n",
    "In dieser Ausfagabe erhälst du die Liste [\"Apfel\", \"Banane\", \"Apfel\", \"Orange\", \"Banane\", \"Apfel\"]. Schreibe nun ein Programm, das diese Liste durchläuft und zählt, wie oft jedes Wort vorkommt. Speichere die Ergebnisse in einem Dictionary. <br>\n",
    "Beispiel:\n",
    "```python\n",
    "woerter = [\"Apfel\", \"Banane\", \"Apfel\", \"Orange\", \"Banane\", \"Apfel\"]\n",
    "# Erwartete Ausgabe: {\"Apfel\": 3, \"Banane\": 2, \"Orange\": 1}\n",
    "```"
   ]
  },
  {
   "cell_type": "code",
   "execution_count": 1,
   "metadata": {},
   "outputs": [],
   "source": [
    "# Schreibe hier deinen Code, der bestimmt wie oft jedes Wort in der Liste vorkommt und das Ergebnis in einem Dictionary speichert\n",
    "woerter = [\"Apfel\", \"Banane\", \"Apfel\", \"Orange\", \"Banane\", \"Apfel\"]"
   ]
  }
 ],
 "metadata": {
  "kernelspec": {
   "display_name": "EDUREF",
   "language": "python",
   "name": "python3"
  },
  "language_info": {
   "codemirror_mode": {
    "name": "ipython",
    "version": 3
   },
   "file_extension": ".py",
   "mimetype": "text/x-python",
   "name": "python",
   "nbconvert_exporter": "python",
   "pygments_lexer": "ipython3",
   "version": "3.13.0"
  }
 },
 "nbformat": 4,
 "nbformat_minor": 2
}
