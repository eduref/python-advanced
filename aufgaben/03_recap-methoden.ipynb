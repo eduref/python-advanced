{
 "cells": [
  {
   "cell_type": "markdown",
   "metadata": {},
   "source": [
    "# Methoden / Funktionen Wiederholung\n",
    "\n",
    "Methoden sind spezielle Funktionen, die zu Objekten gehören. Sie können auf Objekte wie Strings, Listen oder selbst definierte Klassen angewendet werden.\n",
    "\n",
    "Bestandteile einer Methode:  \n",
    "    - **Objekt**: Das Objekt, auf dem die Methode aufgerufen wird  \n",
    "    - **Methodenname**: Der Name der Methode nach dem Punkt  \n",
    "    - **Parameter**: Optionale Werte, die die Methode für ihre Arbeit benötigt  \n",
    "    - **Rückgabewert**: Das Ergebnis der Methodenausführung  \n",
    "\n",
    "Beispiel:\n",
    "```python\n",
    "text = \"Hallo Welt\"\n",
    "grossbuchstaben = text.upper()\n",
    "```"
   ]
  },
  {
   "cell_type": "markdown",
   "metadata": {},
   "source": [
    "## Übung 1\n",
    "\n",
    "Erstelle einen String und wende drei verschiedene String-Methoden darauf an (z.B. upper(), lower(), replace())."
   ]
  },
  {
   "cell_type": "code",
   "execution_count": 0,
   "metadata": {
    "ExecuteTime": {
     "end_time": "2024-12-02T13:42:24.080615Z",
     "start_time": "2024-12-02T13:42:24.074113Z"
    }
   },
   "outputs": [],
   "source": [
    "# Schreibe deinen Code unter diese Zeile\n"
   ]
  },
  {
   "cell_type": "markdown",
   "metadata": {},
   "source": [
    "## Übung 2\n",
    "\n",
    "Erstelle eine Liste und wende verschiedene Listen-Methoden an (append(), pop(), sort()).\n",
    "Gib nach jeder Operation die Liste aus."
   ]
  },
  {
   "cell_type": "code",
   "execution_count": 0,
   "metadata": {
    "ExecuteTime": {
     "end_time": "2024-12-02T13:42:28.057021Z",
     "start_time": "2024-12-02T13:42:28.052172Z"
    }
   },
   "outputs": [],
   "source": [
    "# Schreibe deinen Code unter diese Zeile\n"
   ]
  },
  {
   "cell_type": "markdown",
   "metadata": {},
   "source": [
    "## Übung 3\n",
    "\n",
    "Erstelle ein Dictionary und nutze mindestens drei verschiedene Dictionary-Methoden (keys(), values(), items()).\n",
    "Gib die Ergebnisse aus."
   ]
  },
  {
   "cell_type": "code",
   "execution_count": 0,
   "metadata": {
    "ExecuteTime": {
     "end_time": "2024-12-02T13:42:34.646692Z",
     "start_time": "2024-12-02T13:42:34.641648Z"
    }
   },
   "outputs": [],
   "source": [
    "# Schreibe deinen Code unter diese Zeile\n"
   ]
  },
  {
   "cell_type": "markdown",
   "metadata": {},
   "source": [
    "## Exercise 4\n",
    "\n",
    "Erstelle eine Funktion `greeting`, die einen Namen als Parameter nimmt und eine Begrüßung (\"Hallo name\") zurückgibt.\n",
    "Die Funktion sollte außerdem einen optionalen Parameter `uhrzeit` (Zahl zwischen 0 und 24) nehmen, der entscheidet, ob \"Guten Morgen, name\", Guten Mittag, Guten Abend oder Gute Nacht ausgibt.\n",
    "\n",
    "Example:\n",
    "- `greeting(\"Anna\")` → \"Hello Anna!\"\n",
    "- `greeting(\"Peter\", 6)` → \"Good Morning Peter!\""
   ]
  },
  {
   "cell_type": "code",
   "execution_count": 0,
   "metadata": {
    "ExecuteTime": {
     "end_time": "2024-12-02T13:42:35.977264Z",
     "start_time": "2024-12-02T13:42:35.970588Z"
    }
   },
   "outputs": [],
   "source": [
    "# Schreibe deinen Code unter diese Zeile\n"
   ]
  },
  {
   "cell_type": "markdown",
   "metadata": {},
   "source": [
    "## Exercise 5\n",
    "\n",
    "Erstelle eine Funktion `create_shopping_list`, die als Parameter eine Liste von Dingen nimmt, und eine formatierte Einkaufsliste zurückgibt.\n",
    "\n",
    "Example:\n",
    "```python\n",
    "create_shopping_list([\"Apfel\", \"Brot\", \"Milch\"])\n",
    "```\n",
    "Output:\n",
    "```\n",
    "Einkaufsliste:\n",
    "1. Apfel\n",
    "2. Brot\n",
    "3. Milch\n",
    "```"
   ]
  },
  {
   "cell_type": "code",
   "execution_count": null,
   "metadata": {},
   "outputs": [],
   "source": []
  },
  {
   "cell_type": "markdown",
   "metadata": {},
   "source": [
    "## Bonusübung\n",
    "\n",
    "Schreibe ein kleines Zahlen-Rate-Spiel mit zwei Funktionen:\n",
    "- `generiere_zahl()`: Generiere eine Zufallszahl zwischen 0 und 10\n",
    "- `rate_zahl(geheimzahl, versuch)`: Prüft, ob die geratene Zahl passt, und gibt \"zu klein\", \"zu groß\" oder \"Richtig!\" aus\n",
    "\n",
    "Example usage:\n",
    "```python\n",
    "geheimzahl = generiere_zahl()\n",
    "print(rate_zahl(geheimzahl, 5))  # \"Too low!\" or \"Too high!\" or \"Correct!\"\n",
    "```"
   ]
  },
  {
   "cell_type": "code",
   "execution_count": 0,
   "metadata": {
    "ExecuteTime": {
     "end_time": "2024-12-02T13:42:38.395167Z",
     "start_time": "2024-12-02T13:42:38.385436Z"
    }
   },
   "outputs": [],
   "source": [
    "import random\n",
    "# Schreibe deinen Code unter diese Zeile\n"
   ]
  },
  {
   "cell_type": "markdown",
   "metadata": {},
   "source": [
    "## Feedback\n",
    "Bitte gib uns Feedback zu dieser Wiederholungseinheit über Methoden.\n",
    "![QR Code feedback](../pictures/feedbackQR.png)"
   ]
  },
  {
   "cell_type": "code",
   "execution_count": 0,
   "metadata": {},
   "outputs": [],
   "source": []
  }
 ],
 "metadata": {
  "kernelspec": {
   "display_name": "Python 3",
   "language": "python",
   "name": "python3"
  },
  "language_info": {
   "name": "python"
  }
 },
 "nbformat": 4,
 "nbformat_minor": 2
}
