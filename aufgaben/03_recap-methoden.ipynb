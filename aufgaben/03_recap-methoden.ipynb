{
 "cells": [
  {
   "cell_type": "markdown",
   "id": "232d6128",
   "metadata": {},
   "source": [
    "# Methoden / Funktionen Wiederholung\n",
    "\n",
    "Methoden sind spezielle Funktionen, die zu Objekten gehören. Sie können auf Objekte wie Strings, Listen oder selbst definierte Klassen angewendet werden.\n",
    "\n",
    "Bestandteile einer Methode:  \n",
    "    - **Objekt**: Das Objekt, auf dem die Methode aufgerufen wird  \n",
    "    - **Methodenname**: Der Name der Methode nach dem Punkt  \n",
    "    - **Parameter**: Optionale Werte, die die Methode für ihre Arbeit benötigt  \n",
    "    - **Rückgabewert**: Das Ergebnis der Methodenausführung  \n",
    "\n",
    "Beispiel:\n",
    "```python\n",
    "text = \"Hallo Welt\"\n",
    "grossbuchstaben = text.upper()\n",
    "```"
   ]
  },
  {
   "cell_type": "markdown",
   "id": "768e3afd",
   "metadata": {},
   "source": [
    "## Übung 1\n",
    "\n",
    "Erstelle einen String und wende drei verschiedene String-Methoden darauf an (z.B. upper(), lower(), replace())."
   ]
  },
  {
   "cell_type": "code",
   "execution_count": null,
   "id": "aa62f466",
   "metadata": {},
   "outputs": [],
   "source": [
    "# Schreibe deinen Code unter diese Zeile\n",
    "text = \"Hallo Python Kurs!\"\n",
    "\n",
    "# Großbuchstaben\n",
    "print(text.upper())\n",
    "\n",
    "# Kleinbuchstaben\n",
    "print(text.lower())\n",
    "\n",
    "# Ersetze 'Python' durch 'Java'\n",
    "print(text.replace('Python', 'Java'))\n",
    "\n",
    "# Bonus: Zeige die Länge des Strings\n",
    "print(len(text))"
   ]
  },
  {
   "cell_type": "markdown",
   "id": "40f00cc9",
   "metadata": {},
   "source": [
    "## Übung 2\n",
    "\n",
    "Erstelle eine Liste und wende verschiedene Listen-Methoden an (append(), pop(), sort()).\n",
    "Gib nach jeder Operation die Liste aus."
   ]
  },
  {
   "cell_type": "code",
   "execution_count": null,
   "id": "f2658e5f",
   "metadata": {},
   "outputs": [],
   "source": [
    "# Schreibe deinen Code unter diese Zeile\n",
    "zahlen = [5, 2, 8, 1, 9]\n",
    "print(\"Originalliste:\", zahlen)\n",
    "\n",
    "# Füge eine Zahl hinzu\n",
    "zahlen.append(6)\n",
    "print(\"Nach append(6):\", zahlen)\n",
    "\n",
    "# Entferne das letzte Element\n",
    "entfernt = zahlen.pop()\n",
    "print(f\"Entferntes Element: {entfernt}\")\n",
    "print(\"Nach pop():\", zahlen)\n",
    "\n",
    "# Sortiere die Liste\n",
    "zahlen.sort()\n",
    "print(\"Nach sort():\", zahlen)\n",
    "\n",
    "# Drehe die Liste um\n",
    "zahlen.reverse()\n",
    "print(\"Nach reverse():\", zahlen)"
   ]
  },
  {
   "cell_type": "markdown",
   "id": "1f80be19",
   "metadata": {},
   "source": [
    "## Übung 3\n",
    "\n",
    "Erstelle ein Dictionary und nutze mindestens drei verschiedene Dictionary-Methoden (keys(), values(), items()).\n",
    "Gib die Ergebnisse aus."
   ]
  },
  {
   "cell_type": "code",
   "execution_count": null,
   "id": "9b99588e",
   "metadata": {
    "lines_to_next_cell": 1
   },
   "outputs": [],
   "source": [
    "person = {\n",
    "    \"name\": \"Max\",\n",
    "    \"alter\": 25,\n",
    "    \"stadt\": \"Berlin\"\n",
    "}\n",
    "\n",
    "# Schreibe deinen Code unter diese Zeile\n",
    "# Zeige alle Schlüssel\n",
    "print(\"Schlüssel:\", list(person.keys()))\n",
    "\n",
    "# Zeige alle Werte\n",
    "print(\"Werte:\", list(person.values()))\n",
    "\n",
    "# Zeige alle Schlüssel-Wert-Paare\n",
    "print(\"Paare:\", list(person.items()))\n",
    "\n",
    "# Füge ein neues Element hinzu\n",
    "person.update({\"beruf\": \"Entwickler\"})\n",
    "print(\"Nach Update:\", person)"
   ]
  },
  {
   "cell_type": "markdown",
   "id": "154309ac",
   "metadata": {},
   "source": [
    "## Übung 4\n",
    "\n",
    "Erstelle eine Funktion `begruessung`, die einen Namen als Parameter nimmt und eine persönliche Begrüßung zurückgibt.\n",
    "Die Funktion soll auch einen optionalen Parameter `uhrzeit` haben, der bestimmt, ob \"Guten Morgen\", \"Guten Tag\" oder \"Guten Abend\" ausgegeben wird.\n",
    "\n",
    "Beispiel:\n",
    "- `begruessung(\"Anna\")` → \"Hallo Anna!\"\n",
    "- `begruessung(\"Peter\", \"morgen\")` → \"Guten Morgen Peter!\""
   ]
  },
  {
   "cell_type": "code",
   "execution_count": null,
   "id": "bd42ff19",
   "metadata": {
    "lines_to_next_cell": 1
   },
   "outputs": [],
   "source": [
    "# Schreibe deinen Code unter diese Zeile\n",
    "def begruessung(name, uhrzeit=None):\n",
    "    if uhrzeit == \"morgen\":\n",
    "        return f\"Guten Morgen {name}!\"\n",
    "    elif uhrzeit == \"abend\":\n",
    "        return f\"Guten Abend {name}!\"\n",
    "    elif uhrzeit == \"tag\":\n",
    "        return f\"Guten Tag {name}!\"\n",
    "    else:\n",
    "        return f\"Hallo {name}!\"\n",
    "\n",
    "# Teste die Funktion\n",
    "print(begruessung(\"Anna\"))\n",
    "print(begruessung(\"Peter\", \"morgen\"))\n",
    "print(begruessung(\"Sarah\", \"abend\"))\n",
    "print(begruessung(\"Tom\", \"tag\"))"
   ]
  },
  {
   "cell_type": "markdown",
   "id": "edfe165e",
   "metadata": {},
   "source": [
    "## Übung 5\n",
    "\n",
    "Erstelle eine Funktion `erstelle_einkaufsliste`, die eine Liste mit Einkaufsartikeln als Parameter nimmt\n",
    "und diese als formatierte Einkaufsliste zurückgibt.\n",
    "\n",
    "Beispiel:\n",
    "```python\n",
    "erstelle_einkaufsliste([\"Äpfel\", \"Brot\", \"Milch\"])\n",
    "```\n",
    "Ausgabe:\n",
    "```\n",
    "Einkaufsliste:\n",
    "1. Äpfel\n",
    "2. Brot\n",
    "3. Milch\n",
    "```"
   ]
  },
  {
   "cell_type": "code",
   "execution_count": null,
   "id": "945e79fb",
   "metadata": {},
   "outputs": [],
   "source": [
    "# Schreibe deinen Code unter diese Zeile\n",
    "def erstelle_einkaufsliste(artikel):\n",
    "    ausgabe = \"Einkaufsliste:\"\n",
    "    for i, item in enumerate(artikel, 1):\n",
    "        ausgabe += f\"\\n{i}. {item}\"\n",
    "    return ausgabe\n",
    "\n",
    "# Teste die Funktion\n",
    "print(erstelle_einkaufsliste([\"Äpfel\", \"Brot\", \"Milch\"]))\n",
    "print(\"\\nNoch eine Liste:\")\n",
    "print(erstelle_einkaufsliste([\"Wasser\", \"Saft\"]))"
   ]
  },
  {
   "cell_type": "markdown",
   "id": "b19749ec",
   "metadata": {},
   "source": [
    "## Bonusübung\n",
    "\n",
    "Erstelle ein einfaches Zahlenratespiel mit zwei Funktionen:\n",
    "- `generiere_zahl()`: Erzeugt eine Zufallszahl zwischen 1 und 10\n",
    "- `rate_zahl(geheime_zahl, versuch)`: Prüft den Rateversuch und gibt einen Hinweis zurück\n",
    "\n",
    "Beispiel für die Verwendung:\n",
    "```python\n",
    "zahl = generiere_zahl()\n",
    "print(rate_zahl(zahl, 5))  # \"Zu niedrig!\" oder \"Zu hoch!\" oder \"Richtig!\"\n",
    "```"
   ]
  },
  {
   "metadata": {},
   "cell_type": "code",
   "outputs": [],
   "execution_count": null,
   "source": [
    "import random\n",
    "# Schreibe deinen Code unter diese Zeile\n",
    "\n",
    "def generiere_zahl():\n",
    "    return random.randint(1, 10)\n",
    "\n",
    "def rate_zahl(geheime_zahl, versuch):\n",
    "    if versuch < geheime_zahl:\n",
    "        return \"Zu niedrig!\"\n",
    "    elif versuch > geheime_zahl:\n",
    "        return \"Zu hoch!\"\n",
    "    else:\n",
    "        return \"Richtig!\"\n",
    "\n",
    "# Teste die Funktionen\n",
    "geheime_zahl = generiere_zahl()\n",
    "print(\"Spiel gestartet! Rate eine Zahl zwischen 1 und 10\")\n",
    "\n",
    "# Beispiel für drei Rateversuche\n",
    "print(\"Versuch mit 5:\", rate_zahl(geheime_zahl, 5))\n",
    "print(\"Versuch mit 8:\", rate_zahl(geheime_zahl, 8))\n",
    "print(\"Die geheime Zahl war:\", geheime_zahl)"
   ],
   "id": "c20e13df7708897f"
  },
  {
   "metadata": {},
   "cell_type": "code",
   "outputs": [],
   "execution_count": null,
   "source": "",
   "id": "c425fe0fd7d99ca9"
  }
 ],
 "metadata": {
  "jupytext": {
   "cell_metadata_filter": "-all",
   "main_language": "python",
   "notebook_metadata_filter": "-all"
  }
 },
 "nbformat": 4,
 "nbformat_minor": 5
}
