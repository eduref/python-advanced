{
 "cells": [
  {
   "cell_type": "markdown",
   "metadata": {},
   "source": [
    "# Methoden / Funktionen Wiederholung\n",
    "\n",
    "Methoden sind spezielle Funktionen, die zu Objekten gehören. Sie können auf Objekte wie Strings, Listen oder selbst definierte Klassen angewendet werden.\n",
    "\n",
    "Bestandteile einer Methode:  \n",
    "    - **Objekt**: Das Objekt, auf dem die Methode aufgerufen wird  \n",
    "    - **Methodenname**: Der Name der Methode nach dem Punkt  \n",
    "    - **Parameter**: Optionale Werte, die die Methode für ihre Arbeit benötigt  \n",
    "    - **Rückgabewert**: Das Ergebnis der Methodenausführung  \n",
    "\n",
    "Beispiel:\n",
    "```python\n",
    "text = \"Hallo Welt\"\n",
    "grossbuchstaben = text.upper()\n",
    "```"
   ]
  },
  {
   "cell_type": "markdown",
   "metadata": {},
   "source": [
    "## Übung 1\n",
    "\n",
    "Erstelle einen String und wende drei verschiedene String-Methoden darauf an (z.B. upper(), lower(), replace())."
   ]
  },
  {
   "cell_type": "code",
   "execution_count": 1,
   "metadata": {
    "ExecuteTime": {
     "end_time": "2024-12-02T13:42:24.080615Z",
     "start_time": "2024-12-02T13:42:24.074113Z"
    }
   },
   "outputs": [
    {
     "name": "stdout",
     "output_type": "stream",
     "text": [
      "HALLO PYTHON KURS!\n",
      "hallo python kurs!\n",
      "Hallo Java Kurs!\n",
      "18\n"
     ]
    }
   ],
   "source": [
    "# Schreibe deinen Code unter diese Zeile\n",
    "text = \"Hallo Python Kurs!\"\n",
    "\n",
    "# Großbuchstaben\n",
    "print(text.upper())\n",
    "\n",
    "# Kleinbuchstaben\n",
    "print(text.lower())\n",
    "\n",
    "# Ersetze 'Python' durch 'Java'\n",
    "print(text.replace('Python', 'Java'))\n",
    "\n",
    "# Bonus: Zeige die Länge des Strings\n",
    "print(len(text))"
   ]
  },
  {
   "cell_type": "markdown",
   "metadata": {},
   "source": [
    "## Übung 2\n",
    "\n",
    "Erstelle eine Liste und wende verschiedene Listen-Methoden an (append(), pop(), sort()).\n",
    "Gib nach jeder Operation die Liste aus."
   ]
  },
  {
   "cell_type": "code",
   "execution_count": 2,
   "metadata": {
    "ExecuteTime": {
     "end_time": "2024-12-02T13:42:28.057021Z",
     "start_time": "2024-12-02T13:42:28.052172Z"
    }
   },
   "outputs": [
    {
     "name": "stdout",
     "output_type": "stream",
     "text": [
      "Originalliste: [5, 2, 8, 1, 9]\n",
      "Nach append(6): [5, 2, 8, 1, 9, 6]\n",
      "Entferntes Element: 6\n",
      "Nach pop(): [5, 2, 8, 1, 9]\n",
      "Nach sort(): [1, 2, 5, 8, 9]\n",
      "Nach reverse(): [9, 8, 5, 2, 1]\n"
     ]
    }
   ],
   "source": [
    "# Schreibe deinen Code unter diese Zeile\n",
    "zahlen = [5, 2, 8, 1, 9]\n",
    "print(\"Originalliste:\", zahlen)\n",
    "\n",
    "# Füge eine Zahl hinzu\n",
    "zahlen.append(6)\n",
    "print(\"Nach append(6):\", zahlen)\n",
    "\n",
    "# Entferne das letzte Element\n",
    "entfernt = zahlen.pop()\n",
    "print(f\"Entferntes Element: {entfernt}\")\n",
    "print(\"Nach pop():\", zahlen)\n",
    "\n",
    "# Sortiere die Liste\n",
    "zahlen.sort()\n",
    "print(\"Nach sort():\", zahlen)\n",
    "\n",
    "# Drehe die Liste um\n",
    "zahlen.reverse()\n",
    "print(\"Nach reverse():\", zahlen)"
   ]
  },
  {
   "cell_type": "markdown",
   "metadata": {},
   "source": [
    "## Übung 3\n",
    "\n",
    "Erstelle ein Dictionary und nutze mindestens drei verschiedene Dictionary-Methoden (keys(), values(), items()).\n",
    "Gib die Ergebnisse aus."
   ]
  },
  {
   "cell_type": "code",
   "execution_count": 3,
   "metadata": {
    "ExecuteTime": {
     "end_time": "2024-12-02T13:42:34.646692Z",
     "start_time": "2024-12-02T13:42:34.641648Z"
    }
   },
   "outputs": [
    {
     "name": "stdout",
     "output_type": "stream",
     "text": [
      "Schlüssel: ['name', 'alter', 'stadt']\n",
      "Werte: ['Max', 25, 'Berlin']\n",
      "Paare: [('name', 'Max'), ('alter', 25), ('stadt', 'Berlin')]\n",
      "Nach Update: {'name': 'Max', 'alter': 25, 'stadt': 'Berlin', 'beruf': 'Entwickler'}\n"
     ]
    }
   ],
   "source": [
    "# Schreibe deinen Code unter diese Zeile\n",
    "person = {\n",
    "    \"name\": \"Max\",\n",
    "    \"alter\": 25,\n",
    "    \"stadt\": \"Berlin\"\n",
    "}\n",
    "\n",
    "# Zeige alle Schlüssel\n",
    "print(\"Schlüssel:\", list(person.keys()))\n",
    "\n",
    "# Zeige alle Werte\n",
    "print(\"Werte:\", list(person.values()))\n",
    "\n",
    "# Zeige alle Schlüssel-Wert-Paare\n",
    "print(\"Paare:\", list(person.items()))\n",
    "\n",
    "# Füge ein neues Element hinzu\n",
    "person.update({\"beruf\": \"Entwickler\"})\n",
    "print(\"Nach Update:\", person)"
   ]
  },
  {
   "cell_type": "markdown",
   "metadata": {},
   "source": [
    "## Übung 4\n",
    "\n",
    "Erstelle eine Klasse 'Auto' mit einer Methode 'fahren'. \n",
    "Die Methode soll einen Parameter 'kilometer' haben und den Kilometerstand des Autos erhöhen."
   ]
  },
  {
   "cell_type": "code",
   "execution_count": 4,
   "metadata": {
    "ExecuteTime": {
     "end_time": "2024-12-02T13:42:35.977264Z",
     "start_time": "2024-12-02T13:42:35.970588Z"
    }
   },
   "outputs": [
    {
     "name": "stdout",
     "output_type": "stream",
     "text": [
      "VW ist 100km gefahren.\n",
      "Gesamtkilometerstand: 100km\n",
      "VW ist 50km gefahren.\n",
      "Gesamtkilometerstand: 150km\n"
     ]
    }
   ],
   "source": [
    "# Schreibe deinen Code unter diese Zeile\n",
    "class Auto:\n",
    "    def __init__(self, marke):\n",
    "        self.marke = marke\n",
    "        self.kilometerstand = 0\n",
    "    \n",
    "    def fahren(self, kilometer):\n",
    "        self.kilometerstand += kilometer\n",
    "        print(f\"{self.marke} ist {kilometer}km gefahren.\")\n",
    "        print(f\"Gesamtkilometerstand: {self.kilometerstand}km\")\n",
    "\n",
    "# Teste die Klasse\n",
    "mein_auto = Auto(\"VW\")\n",
    "mein_auto.fahren(100)\n",
    "mein_auto.fahren(50)"
   ]
  },
  {
   "cell_type": "markdown",
   "metadata": {},
   "source": [
    "## Bonusübung\n",
    "\n",
    "Schreibe eine Klasse 'Taschenrechner' mit Methoden für Addition, Subtraktion, Multiplikation und Division.\n",
    "Füge auch eine Methode 'verlauf' hinzu, die alle bisherigen Berechnungen anzeigt."
   ]
  },
  {
   "cell_type": "code",
   "execution_count": 5,
   "metadata": {
    "ExecuteTime": {
     "end_time": "2024-12-02T13:42:38.395167Z",
     "start_time": "2024-12-02T13:42:38.385436Z"
    }
   },
   "outputs": [
    {
     "name": "stdout",
     "output_type": "stream",
     "text": [
      "8\n",
      "6\n",
      "12\n",
      "5.0\n",
      "Berechnungsverlauf:\n",
      "5 + 3 = 8\n",
      "10 - 4 = 6\n",
      "6 * 2 = 12\n",
      "15 / 3 = 5.0\n"
     ]
    }
   ],
   "source": [
    "# Schreibe deinen Code unter diese Zeile\n",
    "class Taschenrechner:\n",
    "    def __init__(self):\n",
    "        self.berechnungen = []\n",
    "    \n",
    "    def addiere(self, a, b):\n",
    "        ergebnis = a + b\n",
    "        self.berechnungen.append(f\"{a} + {b} = {ergebnis}\")\n",
    "        return ergebnis\n",
    "    \n",
    "    def subtrahiere(self, a, b):\n",
    "        ergebnis = a - b\n",
    "        self.berechnungen.append(f\"{a} - {b} = {ergebnis}\")\n",
    "        return ergebnis\n",
    "    \n",
    "    def multipliziere(self, a, b):\n",
    "        ergebnis = a * b\n",
    "        self.berechnungen.append(f\"{a} * {b} = {ergebnis}\")\n",
    "        return ergebnis\n",
    "    \n",
    "    def dividiere(self, a, b):\n",
    "        if b == 0:\n",
    "            raise ValueError(\"Division durch 0 nicht möglich!\")\n",
    "        ergebnis = a / b\n",
    "        self.berechnungen.append(f\"{a} / {b} = {ergebnis}\")\n",
    "        return ergebnis\n",
    "    \n",
    "    def verlauf(self):\n",
    "        print(\"Berechnungsverlauf:\")\n",
    "        for berechnung in self.berechnungen:\n",
    "            print(berechnung)\n",
    "\n",
    "# Teste den Taschenrechner\n",
    "rechner = Taschenrechner()\n",
    "print(rechner.addiere(5, 3))\n",
    "print(rechner.subtrahiere(10, 4))\n",
    "print(rechner.multipliziere(6, 2))\n",
    "print(rechner.dividiere(15, 3))\n",
    "rechner.verlauf()"
   ]
  },
  {
   "cell_type": "markdown",
   "metadata": {},
   "source": [
    "## Feedback\n",
    "Bitte gib uns Feedback zu dieser Wiederholungseinheit über Methoden.\n",
    "![QR Code feedback](../pictures/feedbackQR.png)"
   ]
  },
  {
   "cell_type": "code",
   "execution_count": null,
   "metadata": {},
   "outputs": [],
   "source": []
  }
 ],
 "metadata": {
  "kernelspec": {
   "display_name": "Python 3",
   "language": "python",
   "name": "python3"
  },
  "language_info": {
   "name": "python"
  }
 },
 "nbformat": 4,
 "nbformat_minor": 2
}
