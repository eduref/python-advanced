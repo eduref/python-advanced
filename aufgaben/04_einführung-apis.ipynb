{
 "cells": [
  {
   "cell_type": "markdown",
   "source": [
    "# Einführung in APIs - Tag 1\n",
    "\n",
    "## Was ist eine API? - Eine einfache Erklärung 🎯\n",
    "\n",
    "Stell dir eine API wie einen Kellner in einem Restaurant vor:\n",
    "- Du (dein Programm) bist der Gast\n",
    "- Die Küche (Server) bereitet die Daten vor\n",
    "- Der Kellner (API) nimmt deine Bestellung auf und bringt dir das Essen (Daten)\n",
    "\n",
    "```\n",
    "Du (Client) 🧑 --> 🤵 Kellner (API) --> 👩‍🍳 Küche (Server)\n",
    "         <-- Essen (Daten) <--\n",
    "```\n",
    "\n",
    "### Beispiel aus dem Alltag:\n",
    "Wenn du eine Wetter-App auf deinem Handy öffnest:\n",
    "1. Die App fragt die Wetter-API: \"Wie ist das Wetter in Berlin?\"\n",
    "2. Die API holt die Information vom Wetter-Server\n",
    "3. Die API gibt die Daten an deine App zurück\n",
    "4. Die App zeigt dir das Wetter an"
   ],
   "metadata": {},
   "id": "663e8518582ceb"
  },
  {
   "metadata": {
    "ExecuteTime": {
     "end_time": "2024-12-08T17:47:44.835867Z",
     "start_time": "2024-12-08T17:47:44.591475Z"
    }
   },
   "cell_type": "code",
   "source": [
    "# Zuerst müssen wir die requests Bibliothek importieren\n",
    "# Sie hilft uns, mit APIs zu sprechen\n",
    "import requests\n",
    "\n",
    "# Lass uns mit einer ganz einfachen API anfangen\n",
    "# Diese API gibt uns zufällige Fakten über Zahlen\n",
    "response = requests.get('http://numbersapi.com/random/trivia')\n",
    "print(\"Hier ist ein zufälliger Fakt:\")\n",
    "print(response.text)"
   ],
   "id": "d3f1c06fba5195cc",
   "outputs": [
    {
     "name": "stdout",
     "output_type": "stream",
     "text": [
      "Hier ist ein zufälliger Fakt:\n",
      "525998433 is the number of distinct websites as of November 2011.\n"
     ]
    }
   ],
   "execution_count": 10
  },
  {
   "metadata": {},
   "cell_type": "markdown",
   "source": [
    "### Was ist gerade passiert? 🤔\n",
    "1. `requests.get()` sendet eine Anfrage an die API (wie eine SMS)\n",
    "2. Die API antwortet mit einem Text (wie eine Antwort-SMS)\n",
    "3. Wir speichern die Antwort in `response`\n",
    "4. Mit `response.text` lesen wir den Text aus der Antwort\n",
    "\n",
    "## 🎯 Übung 1: Deine erste API-Anfrage\n",
    "Jetzt bist du dran! Rufe die Cat Facts API auf (https://catfact.ninja/fact).\n",
    "Diese API sendet dir zufällige Fakten über Katzen.\n",
    "\n",
    "💡 Tipp: Der Code ist sehr ähnlich zum Beispiel oben. Die URL ist allerdings anders."
   ],
   "id": "b432d41b338c7b9f"
  },
  {
   "metadata": {
    "ExecuteTime": {
     "end_time": "2024-12-08T17:47:45.250087Z",
     "start_time": "2024-12-08T17:47:44.865959Z"
    }
   },
   "cell_type": "code",
   "source": [
    "# Schreibe deinen Code unter diese Zeile\n",
    "response = requests.get('https://catfact.ninja/fact')\n",
    "print(response.text)"
   ],
   "id": "2290e4245027f991",
   "outputs": [
    {
     "name": "stdout",
     "output_type": "stream",
     "text": [
      "{\"fact\":\"According to a Gallup poll, most American pet owners obtain their cats by adopting strays.\",\"length\":90}\n"
     ]
    }
   ],
   "execution_count": 11
  },
  {
   "cell_type": "markdown",
   "source": [
    "## Was ist JSON? 📋\n",
    "\n",
    "Die Antwort von der Cat Facts API sieht etwas seltsam aus, oder? Das liegt daran, dass sie im JSON-Format ist.\n",
    "\n",
    "JSON ist wie ein Wörterbuch:\n",
    "- Es hat Schlüssel (keys) und Werte (values)\n",
    "- Beispiel aus dem Alltag: Ein Telefonbuch\n",
    "  - Schlüssel = Name\n",
    "  - Wert = Telefonnummer\n",
    "\n",
    "```python\n",
    "# Python Dictionary        # JSON\n",
    "{\n",
    "  \"name\": \"Max\",          # Gleiche Struktur!\n",
    "  \"alter\": 25\n",
    "}\n",
    "```"
   ],
   "metadata": {},
   "id": "5e99e5991125feae"
  },
  {
   "cell_type": "code",
   "source": [
    "# Lass uns die JSON-Antwort in ein Python Dictionary umwandeln\n",
    "response = requests.get('https://catfact.ninja/fact')\n",
    "data = response.json()  # Wandelt JSON in Dictionary um\n",
    "\n",
    "print(\"Der komplette Datensatz:\")\n",
    "print(data)\n",
    "\n",
    "print(\"\\nNur der Katzenfakt:\")\n",
    "print(data['fact'])  # Wir greifen nur auf den 'fact' Schlüssel zu"
   ],
   "metadata": {
    "ExecuteTime": {
     "end_time": "2024-12-08T17:47:45.459300Z",
     "start_time": "2024-12-08T17:47:45.286827Z"
    }
   },
   "id": "bee4d210d2241c4",
   "outputs": [
    {
     "name": "stdout",
     "output_type": "stream",
     "text": [
      "Der komplette Datensatz:\n",
      "{'fact': 'Not every cat gets \\\\high\\\\\" from catnip. Whether or not a cat responds to it depends upon a recessive gene: no gene\"', 'length': 115}\n",
      "\n",
      "Nur der Katzenfakt:\n",
      "Not every cat gets \\high\\\" from catnip. Whether or not a cat responds to it depends upon a recessive gene: no gene\"\n"
     ]
    }
   ],
   "execution_count": 12
  },
  {
   "cell_type": "markdown",
   "source": [
    "## 🎯 Übung 2: JSON verstehen\n",
    "\n",
    "Rufe die Nationalize API auf (https://api.nationalize.io/?name=michael)\n",
    "und finde heraus, aus welchem Land der Name wahrscheinlich stammt.\n",
    "\n",
    "💡 Tipps:\n",
    "1. Nutze `response.json()` um die Antwort in ein Dictionary umzuwandeln\n",
    "2. Schau dir die Struktur mit `print(data)` an\n",
    "3. Das wahrscheinlichste Land steht im ersten Element der 'country' Liste"
   ],
   "metadata": {},
   "id": "7b98c9be3fca61b0"
  },
  {
   "metadata": {
    "ExecuteTime": {
     "end_time": "2024-12-08T17:47:45.938334Z",
     "start_time": "2024-12-08T17:47:45.479119Z"
    }
   },
   "cell_type": "code",
   "source": [
    "# Schreibe deinen Code unter diese Zeile\n",
    "response = requests.get('https://api.nationalize.io/?name=michael')\n",
    "data = response.json()\n",
    "print(data)\n",
    "\n",
    "print(\"Das wahrscheinlichste Land ist:\", data['country'][0]['country_id'])"
   ],
   "id": "26a2ff7cc7fcd226",
   "outputs": [
    {
     "name": "stdout",
     "output_type": "stream",
     "text": [
      "{'count': 129385, 'name': 'michael', 'country': [{'country_id': 'NG', 'probability': 0.08072891893012198}, {'country_id': 'CY', 'probability': 0.07509944218012053}, {'country_id': 'GH', 'probability': 0.05387078281978828}, {'country_id': 'CN', 'probability': 0.03992310598585022}, {'country_id': 'US', 'probability': 0.03816919836588408}]}\n",
      "Das wahrscheinlichste Land ist: NG\n"
     ]
    }
   ],
   "execution_count": 13
  },
  {
   "metadata": {},
   "cell_type": "markdown",
   "source": [
    "## 🌟 Bonus-Übung: Namen-Analyse\n",
    "\n",
    "Erstelle eine Funktion `analyze_name(name)`, die:\n",
    "1. Einen Namen als Parameter nimmt\n",
    "2. Die API aufruft\n",
    "3. Die Top 3 wahrscheinlichsten Länder ausgibt\n",
    "\n",
    "💡 Extra-Tipp: Nutze eine for-Schleife für die Top 3 Länder!"
   ],
   "id": "904c92df69bb19a"
  },
  {
   "metadata": {
    "ExecuteTime": {
     "end_time": "2024-12-08T17:47:46.398903Z",
     "start_time": "2024-12-08T17:47:45.946639Z"
    }
   },
   "cell_type": "code",
   "source": [
    "def analyze_name(name):\n",
    "    # Schreibe deinen Code unter diese Zeile\n",
    "    response = requests.get(f'https://api.nationalize.io/?name={name}')\n",
    "    data = response.json()\n",
    "    \n",
    "    print(f\"Top 3 Länder für {name}:\")\n",
    "    for country in data['country'][:3]:\n",
    "        print(country['country_id'])\n",
    "        \n",
    "# Teste deine Funktion\n",
    "analyze_name('michael')\n",
    "    "
   ],
   "id": "d546e5c386712557",
   "outputs": [
    {
     "name": "stdout",
     "output_type": "stream",
     "text": [
      "Top 3 Länder für michael:\n",
      "NG\n",
      "CY\n",
      "GH\n"
     ]
    }
   ],
   "execution_count": 14
  },
  {
   "cell_type": "markdown",
   "source": [
    "## 🎯 Zusammenfassung Tag 1\n",
    "\n",
    "Was haben wir gelernt?\n",
    "1. APIs sind wie Kellner, die uns Daten servieren\n",
    "2. Mit `requests.get()` können wir APIs anfragen\n",
    "3. APIs antworten oft im JSON-Format\n",
    "4. Mit `.json()` machen wir aus JSON ein Python Dictionary\n",
    "\n",
    "### 🚀 Morgen:\n",
    "- Werden wir eine richtige Wetter-App bauen!\n",
    "- Mit einer professionellen Wetter-API arbeiten\n",
    "- Mehr über API-Parameter lernen\n",
    "\n",
    "### ❓ Häufige Fehler und Lösungen:\n",
    "- `ModuleNotFoundError`: Requests nicht installiert → `pip install requests`\n",
    "- `ConnectionError`: Keine Internetverbindung → Verbindung prüfen\n",
    "- `KeyError`: Falscher Schlüssel → Struktur der Antwort prüfen"
   ],
   "metadata": {},
   "id": "4c8bd9e7441b8119"
  }
 ],
 "metadata": {
  "kernelspec": {
   "display_name": "Python 3",
   "language": "python",
   "name": "python3"
  }
 }
}
