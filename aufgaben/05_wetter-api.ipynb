{
 "cells": [
  {
   "cell_type": "markdown",
   "source": [
    "# 🌤️ Wetter-App Entwicklung - Tag 2\n",
    "\n",
    "## Was werden wir heute bauen?\n",
    "Eine eigene Wetter-App, die uns sagt:\n",
    "- Wie warm ist es gerade?\n",
    "- Regnet es?\n",
    "- Vergleich zwischen verschiedenen Städten\n",
    "\n",
    "## Die Open-Meteo API 🌍\n",
    "Wir nutzen die Open-Meteo API welche uns Wetterdaten liefert.\n",
    "\n",
    "### So sieht eine API-Anfrage aus:\n",
    "https://api.open-meteo.com/v1/forecast?latitude=52.52&longitude=13.41&current=temperature_2m\n",
    "```\n",
    "https://api.open-meteo.com/v1/forecast?\n",
    "  latitude=52.52&           <- Breitengrad (Berlin)\n",
    "  longitude=13.41&          <- Längengrad (Berlin)\n",
    "  current=temperature_2m    <- Was wollen wir wissen?\n",
    "```\n",
    "\n",
    "Der Teil hinter dem Fragezeichen `?` sind die Parameter. Hier können wir Daten wie Breitengrad, Längengrad und gewünschte Wetterdaten angeben.\n",
    "\n",
    "### In Python sieht das so aus:"
   ],
   "metadata": {},
   "id": "5079f7a05fa664b8"
  },
  {
   "cell_type": "code",
   "source": [
    "import requests\n",
    "\n",
    "# Parameter für Berlin in params dictionary speichern\n",
    "params = {\n",
    "    'latitude': 52.52,\n",
    "    'longitude': 13.41,\n",
    "    'current': 'temperature_2m'\n",
    "}\n",
    "\n",
    "# Anfrage an die API senden mit unseren Parametern\n",
    "response = requests.get('https://api.open-meteo.com/v1/forecast', params=params)\n",
    "\n",
    "print(\"JSON API-Antwort:\")\n",
    "print(response.json())"
   ],
   "metadata": {
    "ExecuteTime": {
     "end_time": "2024-12-08T17:37:14.062972Z",
     "start_time": "2024-12-08T17:37:13.921691Z"
    }
   },
   "id": "89e57bbc364e11c6",
   "outputs": [
    {
     "name": "stdout",
     "output_type": "stream",
     "text": [
      "JSON API-Antwort:\n",
      "{'latitude': 52.52, 'longitude': 13.419998, 'generationtime_ms': 0.02002716064453125, 'utc_offset_seconds': 0, 'timezone': 'GMT', 'timezone_abbreviation': 'GMT', 'elevation': 38.0, 'current_units': {'time': 'iso8601', 'interval': 'seconds', 'temperature_2m': '°C'}, 'current': {'time': '2024-12-08T17:30', 'interval': 900, 'temperature_2m': 4.0}}\n"
     ]
    }
   ],
   "execution_count": 5
  },
  {
   "cell_type": "markdown",
   "source": [
    "## 🎯 Übung 1: Erste Wetter-Abfrage\n",
    "\n",
    "Lass uns eine Funktion schreiben, die das Wetter für einen Ort abruft und als JSON zurückgibt!\n",
    "\n",
    "💡 Tipps:\n",
    "1. Nutze die Parameter `latitude` und `longitude` für den Ort\n",
    "2. Füge `current=temperature_2m,rain` hinzu für Temperatur und Regen\n",
    "3. Nutze `requests.get(url, params=...)` für sauberen Code"
   ],
   "metadata": {},
   "id": "5fb227d9b22bb7f9"
  },
  {
   "cell_type": "code",
   "source": [
    "def get_weather(latitude, longitude):\n",
    "    # Schreibe deinen Code unter diese Zeile\n",
    "    params = {\n",
    "        'latitude': latitude,\n",
    "        'longitude': longitude,\n",
    "        'current': 'temperature_2m,rain'\n",
    "    }\n",
    "    \n",
    "    response = requests.get('https://api.open-meteo.com/v1/forecast', params=params)\n",
    "    return response.json()\n",
    "\n",
    "# Test für Berlin\n",
    "berlin_wetter = get_weather(52.52, 13.41)\n",
    "print(\"Wetterdaten für Berlin:\")\n",
    "print(berlin_wetter)"
   ],
   "metadata": {
    "ExecuteTime": {
     "end_time": "2024-12-08T17:40:32.582798Z",
     "start_time": "2024-12-08T17:40:32.470764Z"
    }
   },
   "id": "b45de40dedf75d90",
   "outputs": [
    {
     "name": "stdout",
     "output_type": "stream",
     "text": [
      "Wetterdaten für Berlin:\n",
      "{'latitude': 52.52, 'longitude': 13.419998, 'generationtime_ms': 0.025033950805664062, 'utc_offset_seconds': 0, 'timezone': 'GMT', 'timezone_abbreviation': 'GMT', 'elevation': 38.0, 'current_units': {'time': 'iso8601', 'interval': 'seconds', 'temperature_2m': '°C', 'rain': 'mm'}, 'current': {'time': '2024-12-08T17:30', 'interval': 900, 'temperature_2m': 4.0, 'rain': 0.0}}\n"
     ]
    }
   ],
   "execution_count": 6
  },
  {
   "cell_type": "markdown",
   "source": [
    "## 🎯 Übung 2: Benutzerfreundliche Ausgabe\n",
    "\n",
    "Die rohen Wetterdaten sind nicht sehr lesbar. Lass uns eine schöne Ausgabe erstellen!\n",
    "\n",
    "💡 Tipps:\n",
    "1. Erstelle eine neue Funktion `display_weather`\n",
    "2. Greife auf die wichtigen Werte im Dictionary zu\n",
    "3. Formatiere die Ausgabe mit f-Strings"
   ],
   "metadata": {},
   "id": "60f1203f59fce202"
  },
  {
   "cell_type": "code",
   "source": [
    "def display_weather(weather_data):\n",
    "    # Schreibe deinen Code unter diese Zeile\n",
    "    current = weather_data['current']\n",
    "    print(f\"📍 Position: {weather_data['latitude']}°N, {weather_data['longitude']}°E\")\n",
    "    print(f\"🌡️ Temperatur: {current['temperature_2m']}°C\")\n",
    "    print(f\"🌧️ Niederschlag: {current['rain']} mm\")\n",
    "\n",
    "# Test\n",
    "berlin_wetter = get_weather(52.52, 13.41)\n",
    "display_weather(berlin_wetter)"
   ],
   "metadata": {
    "ExecuteTime": {
     "end_time": "2024-12-08T17:40:56.039757Z",
     "start_time": "2024-12-08T17:40:55.939199Z"
    }
   },
   "id": "a7b0f397040a948c",
   "outputs": [
    {
     "name": "stdout",
     "output_type": "stream",
     "text": [
      "📍 Position: 52.52°N, 13.419998°E\n",
      "🌡️ Temperatur: 4.0°C\n",
      "🌧️ Niederschlag: 0.0 mm\n"
     ]
    }
   ],
   "execution_count": 7
  },
  {
   "cell_type": "markdown",
   "source": [
    "## 🎯 Übung 3: Städte-Verwaltung\n",
    "\n",
    "Niemand möchte sich Koordinaten merken! Lass uns ein Wörterbuch mit Städten erstellen.\n",
    "\n",
    "💡 Tipp: cities ist ein Dictionary mit Städtenamen als Schlüssel und Koordinaten als Werte\n",
    "\n",
    "Lese nun in der Funktion `get_city_weather` den Stadtnamen vom Nutzer ein und gib das Wetter aus."
   ],
   "metadata": {},
   "id": "75787467a4a59b7"
  },
  {
   "cell_type": "code",
   "source": [
    "# Hier sind einige deutsche Städte mit ihren Koordinaten\n",
    "cities = {\n",
    "    'berlin': {'lat': 52.52, 'lon': 13.41},\n",
    "    'hamburg': {'lat': 53.55, 'lon': 9.99},\n",
    "    'münchen': {'lat': 48.14, 'lon': 11.58},\n",
    "    'köln': {'lat': 50.94, 'lon': 6.96},\n",
    "    'frankfurt': {'lat': 50.11, 'lon': 8.68}\n",
    "}\n",
    "\n",
    "def get_city_weather():\n",
    "    # Schreibe deinen Code unter diese Zeile\n",
    "    print(\"📍 Verfügbare Städte:\", ', '.join(cities.keys()))\n",
    "    \n",
    "    while True:\n",
    "        city = input(\"\\nGib eine Stadt ein (oder 'exit' zum Beenden): \").lower()\n",
    "        \n",
    "        if city == 'exit':\n",
    "            print(\"Tschüss! 👋\")\n",
    "            break\n",
    "            \n",
    "        if city in cities:\n",
    "            coords = cities[city]\n",
    "            weather_data = get_weather(coords['lat'], coords['lon'])\n",
    "            print(f\"\\n🌤️ Wetter in {city.title()}:\")\n",
    "            display_weather(weather_data)\n",
    "        else:\n",
    "            print(f\"❌ Stadt '{city}' nicht gefunden!\")\n",
    "\n",
    "# Starte das Programm\n",
    "get_city_weather()"
   ],
   "metadata": {
    "ExecuteTime": {
     "end_time": "2024-12-08T17:43:24.625707Z",
     "start_time": "2024-12-08T17:43:17.638006Z"
    }
   },
   "id": "6780f195239f800b",
   "outputs": [
    {
     "name": "stdout",
     "output_type": "stream",
     "text": [
      "📍 Verfügbare Städte: berlin, hamburg, münchen, köln, frankfurt\n",
      "\n",
      "🌤️ Wetter in München:\n",
      "📍 Position: 48.14°N, 11.58°E\n",
      "🌡️ Temperatur: 2.8°C\n",
      "🌧️ Niederschlag: 0.3 mm\n"
     ]
    },
    {
     "ename": "KeyboardInterrupt",
     "evalue": "Interrupted by user",
     "output_type": "error",
     "traceback": [
      "\u001B[0;31m---------------------------------------------------------------------------\u001B[0m",
      "\u001B[0;31mKeyboardInterrupt\u001B[0m                         Traceback (most recent call last)",
      "Cell \u001B[0;32mIn[8], line 30\u001B[0m\n\u001B[1;32m     27\u001B[0m             \u001B[38;5;28mprint\u001B[39m(\u001B[38;5;124mf\u001B[39m\u001B[38;5;124m\"\u001B[39m\u001B[38;5;124m❌ Stadt \u001B[39m\u001B[38;5;124m'\u001B[39m\u001B[38;5;132;01m{\u001B[39;00mcity\u001B[38;5;132;01m}\u001B[39;00m\u001B[38;5;124m'\u001B[39m\u001B[38;5;124m nicht gefunden!\u001B[39m\u001B[38;5;124m\"\u001B[39m)\n\u001B[1;32m     29\u001B[0m \u001B[38;5;66;03m# Starte das Programm\u001B[39;00m\n\u001B[0;32m---> 30\u001B[0m \u001B[43mget_city_weather\u001B[49m\u001B[43m(\u001B[49m\u001B[43m)\u001B[49m\n",
      "Cell \u001B[0;32mIn[8], line 15\u001B[0m, in \u001B[0;36mget_city_weather\u001B[0;34m()\u001B[0m\n\u001B[1;32m     12\u001B[0m \u001B[38;5;28mprint\u001B[39m(\u001B[38;5;124m\"\u001B[39m\u001B[38;5;124m📍 Verfügbare Städte:\u001B[39m\u001B[38;5;124m\"\u001B[39m, \u001B[38;5;124m'\u001B[39m\u001B[38;5;124m, \u001B[39m\u001B[38;5;124m'\u001B[39m\u001B[38;5;241m.\u001B[39mjoin(cities\u001B[38;5;241m.\u001B[39mkeys()))\n\u001B[1;32m     14\u001B[0m \u001B[38;5;28;01mwhile\u001B[39;00m \u001B[38;5;28;01mTrue\u001B[39;00m:\n\u001B[0;32m---> 15\u001B[0m     city \u001B[38;5;241m=\u001B[39m \u001B[38;5;28;43minput\u001B[39;49m\u001B[43m(\u001B[49m\u001B[38;5;124;43m\"\u001B[39;49m\u001B[38;5;130;43;01m\\n\u001B[39;49;00m\u001B[38;5;124;43mGib eine Stadt ein (oder \u001B[39;49m\u001B[38;5;124;43m'\u001B[39;49m\u001B[38;5;124;43mexit\u001B[39;49m\u001B[38;5;124;43m'\u001B[39;49m\u001B[38;5;124;43m zum Beenden): \u001B[39;49m\u001B[38;5;124;43m\"\u001B[39;49m\u001B[43m)\u001B[49m\u001B[38;5;241m.\u001B[39mlower()\n\u001B[1;32m     17\u001B[0m     \u001B[38;5;28;01mif\u001B[39;00m city \u001B[38;5;241m==\u001B[39m \u001B[38;5;124m'\u001B[39m\u001B[38;5;124mexit\u001B[39m\u001B[38;5;124m'\u001B[39m:\n\u001B[1;32m     18\u001B[0m         \u001B[38;5;28mprint\u001B[39m(\u001B[38;5;124m\"\u001B[39m\u001B[38;5;124mTschüss! 👋\u001B[39m\u001B[38;5;124m\"\u001B[39m)\n",
      "File \u001B[0;32m/Library/Frameworks/Python.framework/Versions/3.10/lib/python3.10/site-packages/ipykernel/kernelbase.py:1282\u001B[0m, in \u001B[0;36mKernel.raw_input\u001B[0;34m(self, prompt)\u001B[0m\n\u001B[1;32m   1280\u001B[0m     msg \u001B[38;5;241m=\u001B[39m \u001B[38;5;124m\"\u001B[39m\u001B[38;5;124mraw_input was called, but this frontend does not support input requests.\u001B[39m\u001B[38;5;124m\"\u001B[39m\n\u001B[1;32m   1281\u001B[0m     \u001B[38;5;28;01mraise\u001B[39;00m StdinNotImplementedError(msg)\n\u001B[0;32m-> 1282\u001B[0m \u001B[38;5;28;01mreturn\u001B[39;00m \u001B[38;5;28;43mself\u001B[39;49m\u001B[38;5;241;43m.\u001B[39;49m\u001B[43m_input_request\u001B[49m\u001B[43m(\u001B[49m\n\u001B[1;32m   1283\u001B[0m \u001B[43m    \u001B[49m\u001B[38;5;28;43mstr\u001B[39;49m\u001B[43m(\u001B[49m\u001B[43mprompt\u001B[49m\u001B[43m)\u001B[49m\u001B[43m,\u001B[49m\n\u001B[1;32m   1284\u001B[0m \u001B[43m    \u001B[49m\u001B[38;5;28;43mself\u001B[39;49m\u001B[38;5;241;43m.\u001B[39;49m\u001B[43m_parent_ident\u001B[49m\u001B[43m[\u001B[49m\u001B[38;5;124;43m\"\u001B[39;49m\u001B[38;5;124;43mshell\u001B[39;49m\u001B[38;5;124;43m\"\u001B[39;49m\u001B[43m]\u001B[49m\u001B[43m,\u001B[49m\n\u001B[1;32m   1285\u001B[0m \u001B[43m    \u001B[49m\u001B[38;5;28;43mself\u001B[39;49m\u001B[38;5;241;43m.\u001B[39;49m\u001B[43mget_parent\u001B[49m\u001B[43m(\u001B[49m\u001B[38;5;124;43m\"\u001B[39;49m\u001B[38;5;124;43mshell\u001B[39;49m\u001B[38;5;124;43m\"\u001B[39;49m\u001B[43m)\u001B[49m\u001B[43m,\u001B[49m\n\u001B[1;32m   1286\u001B[0m \u001B[43m    \u001B[49m\u001B[43mpassword\u001B[49m\u001B[38;5;241;43m=\u001B[39;49m\u001B[38;5;28;43;01mFalse\u001B[39;49;00m\u001B[43m,\u001B[49m\n\u001B[1;32m   1287\u001B[0m \u001B[43m\u001B[49m\u001B[43m)\u001B[49m\n",
      "File \u001B[0;32m/Library/Frameworks/Python.framework/Versions/3.10/lib/python3.10/site-packages/ipykernel/kernelbase.py:1325\u001B[0m, in \u001B[0;36mKernel._input_request\u001B[0;34m(self, prompt, ident, parent, password)\u001B[0m\n\u001B[1;32m   1322\u001B[0m \u001B[38;5;28;01mexcept\u001B[39;00m \u001B[38;5;167;01mKeyboardInterrupt\u001B[39;00m:\n\u001B[1;32m   1323\u001B[0m     \u001B[38;5;66;03m# re-raise KeyboardInterrupt, to truncate traceback\u001B[39;00m\n\u001B[1;32m   1324\u001B[0m     msg \u001B[38;5;241m=\u001B[39m \u001B[38;5;124m\"\u001B[39m\u001B[38;5;124mInterrupted by user\u001B[39m\u001B[38;5;124m\"\u001B[39m\n\u001B[0;32m-> 1325\u001B[0m     \u001B[38;5;28;01mraise\u001B[39;00m \u001B[38;5;167;01mKeyboardInterrupt\u001B[39;00m(msg) \u001B[38;5;28;01mfrom\u001B[39;00m \u001B[38;5;28;01mNone\u001B[39;00m\n\u001B[1;32m   1326\u001B[0m \u001B[38;5;28;01mexcept\u001B[39;00m \u001B[38;5;167;01mException\u001B[39;00m:\n\u001B[1;32m   1327\u001B[0m     \u001B[38;5;28mself\u001B[39m\u001B[38;5;241m.\u001B[39mlog\u001B[38;5;241m.\u001B[39mwarning(\u001B[38;5;124m\"\u001B[39m\u001B[38;5;124mInvalid Message:\u001B[39m\u001B[38;5;124m\"\u001B[39m, exc_info\u001B[38;5;241m=\u001B[39m\u001B[38;5;28;01mTrue\u001B[39;00m)\n",
      "\u001B[0;31mKeyboardInterrupt\u001B[0m: Interrupted by user"
     ]
    }
   ],
   "execution_count": 8
  },
  {
   "cell_type": "markdown",
   "source": [
    "## 🌟 Bonus-Übung 1: Städtevergleich\n",
    "\n",
    "Erstelle eine Funktion, die das Wetter mehrerer Städte vergleicht und sie nach Temperatur sortiert.\n",
    "\n",
    "💡 Tipps:\n",
    "1. Sammle die Temperaturen aller Städte\n",
    "2. Sortiere sie nach Temperatur\n",
    "3. Nutze eine schöne Formatierung"
   ],
   "metadata": {},
   "id": "28a9a6329e91078b"
  },
  {
   "cell_type": "code",
   "source": [
    "def compare_cities(city_list):\n",
    "    # Schreibe deinen Code unter diese Zeile\n",
    "    weather_data = []\n",
    "    \n",
    "    print(\"🌡️ Temperaturvergleich:\")\n",
    "    print(\"-\" * 30)\n",
    "    \n",
    "    for city in city_list:\n",
    "        coords = cities[city]\n",
    "        weather = get_weather(coords['lat'], coords['lon'])\n",
    "        weather_data.append((city, weather['current']['temperature_2m']))\n",
    "        \n",
    "    weather_data.sort(key=lambda x: x[1], reverse=True)\n",
    "    \n",
    "    for city, temp in weather_data:\n",
    "        print(f\"{city.title()}: {temp}°C\")\n",
    "\n",
    "# Test\n",
    "compare_cities(['berlin', 'hamburg', 'münchen'])"
   ],
   "metadata": {
    "ExecuteTime": {
     "end_time": "2024-12-08T17:45:55.752731Z",
     "start_time": "2024-12-08T17:45:55.447184Z"
    }
   },
   "id": "ce9fcb7c364c354",
   "outputs": [
    {
     "name": "stdout",
     "output_type": "stream",
     "text": [
      "🌡️ Temperaturvergleich:\n",
      "------------------------------\n",
      "Hamburg: 4.8°C\n",
      "Berlin: 4.0°C\n",
      "München: 2.7°C\n"
     ]
    }
   ],
   "execution_count": 10
  },
  {
   "cell_type": "markdown",
   "source": [
    "## 🎯 Zusammenfassung\n",
    "\n",
    "Was haben wir gelernt?\n",
    "1. Wie man eine echte Wetter-API benutzt\n",
    "2. Wie man API-Parameter verwendet\n",
    "\n",
    "### 🚀 Weitere Ideen:\n",
    "- Wettervorhersage für mehrere Tage (siehe API-Dokumentation auf https://open-meteo.com)\n",
    "- Weitere Wetterdaten (Wind, Luftfeuchtigkeit)\n",
    "- Eigene Stadt hinzufügen\n",
    "\n",
    "### ❓ Häufige Fehler:\n",
    "- KeyError → Prüfe die API-Dokumentation\n",
    "- ConnectionError → Prüfe deine Internetverbindung\n",
    "- ValueError → Prüfe die Koordinaten\n",
    "\n",
    "🎉 Gut gemacht! Du hast deine erste Wetter-App gebaut!"
   ],
   "metadata": {},
   "id": "87f45142c3cd13c7"
  },
  {
   "metadata": {},
   "cell_type": "code",
   "outputs": [],
   "execution_count": null,
   "source": "",
   "id": "e827c04eff8e47b0"
  }
 ],
 "metadata": {
  "kernelspec": {
   "display_name": "Python 3",
   "language": "python",
   "name": "python3"
  }
 }
}
