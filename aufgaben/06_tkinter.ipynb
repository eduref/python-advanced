{
 "cells": [
  {
   "cell_type": "markdown",
   "id": "9b81942f",
   "metadata": {},
   "source": [
    "# TKinter\n",
    "\n",
    "Bisher hast du nur die Konsole (print()) und das Eingabefenster (input()) verwendet.\n",
    "Aber echte Anwendungen haben viel mehr Möglichkeiten für ihre Benutzeroberfläche!\n",
    "\n",
    "Zuerst müssen wir die tkinter-Bibliothek und die themed tkinter widgets (ttk) importieren:\n",
    "(Du musst diesen Code nur einmal ausführen, wenn du das Notebook öffnest)"
   ]
  },
  {
   "cell_type": "code",
   "id": "6b937980",
   "metadata": {
    "ExecuteTime": {
     "end_time": "2025-01-27T16:50:46.570754Z",
     "start_time": "2025-01-27T16:50:46.566694Z"
    }
   },
   "source": [
    "import tkinter as tk\n",
    "from tkinter import ttk"
   ],
   "outputs": [],
   "execution_count": 4
  },
  {
   "cell_type": "markdown",
   "id": "b054f125",
   "metadata": {},
   "source": [
    "## Verwendung von tkinter\n",
    "\n",
    "Um dein erstes Fenster mit tk zu erstellen, benötigst du diese zwei Befehle:\n",
    "\n",
    "1. `root_window = tk.Tk()` erstellt ein neues Fenster\n",
    "2. `root_window.mainloop()` öffnet das Fenster\n",
    "\n",
    "Jeder Code nach .mainloop() wird erst ausgeführt, nachdem das Fenster geschlossen wurde!\n",
    "\n",
    "Wenn du also zum Beispiel den Fenstertitel mit `root_window.title(\"Neuer Titel\")` ändern möchtest, musst du das vor dem Aufruf von mainloop tun!"
   ]
  },
  {
   "cell_type": "code",
   "id": "d59894d5",
   "metadata": {
    "ExecuteTime": {
     "end_time": "2025-01-27T16:50:48.110830Z",
     "start_time": "2025-01-27T16:50:46.619724Z"
    }
   },
   "source": [
    "root_window = tk.Tk()\n",
    "root_window.title(\"Dein erstes Fenster\")\n",
    "root_window.mainloop()\n",
    "# Dieser Code wird erst nach dem Schließen des Fensters ausgeführt!\n",
    "print(\"Fenster geschlossen\")"
   ],
   "outputs": [
    {
     "name": "stdout",
     "output_type": "stream",
     "text": [
      "Fenster geschlossen\n"
     ]
    }
   ],
   "execution_count": 5
  },
  {
   "cell_type": "markdown",
   "id": "16cbbc17",
   "metadata": {},
   "source": [
    "## Text anzeigen\n",
    "\n",
    "Alle Inhalte in Fenstern werden als Widgets gespeichert. Du musst zuerst alle Widgets definieren, dann alle Widgets packen und dann mainloop ausführen.\n",
    "\n",
    "Zum Beispiel:\n",
    "```py\n",
    "root_window = tk.Tk()\n",
    "# 1. Label-Widget definieren (zeigt Text an)\n",
    "message = ttk.Label(root_window, text=\"Hallo, Welt!\")\n",
    "# 2. Widget packen (zum Fenster hinzufügen)\n",
    "message.pack()\n",
    "# 3. Fenster öffnen\n",
    "root_window.mainloop()\n",
    "```\n",
    "**Denk daran, mainloop() immer als letztes aufzurufen und vorher alle Widgets zu packen!**\n",
    "\n",
    "**Hinweis**: Das Label ist t**t**k.Label(), nicht tk.Label()"
   ]
  },
  {
   "cell_type": "markdown",
   "id": "93aad79e",
   "metadata": {},
   "source": [
    "## 🎯 Übung 1\n",
    "\n",
    "1. Erstelle ein neues Fenster.\n",
    "2. Setze den Fenstertitel auf \"Übung 1\"\n",
    "3. Füge zwei Labels hinzu: \"Guten Abend!\" und \"Es ist (aktuelles Datum)\", zum Beispiel \"Es ist Montag, 27. Januar\". Denk daran, sie mit .pack() zu packen!\n",
    "4. Öffne das Fenster"
   ]
  },
  {
   "cell_type": "code",
   "id": "6167c751",
   "metadata": {
    "lines_to_next_cell": 1,
    "ExecuteTime": {
     "end_time": "2025-01-27T16:50:49.859831Z",
     "start_time": "2025-01-27T16:50:48.184212Z"
    }
   },
   "source": [
    "# Schreibe deinen Code unter diese Zeile\n",
    "# 1. Neues Fenster erstellen\n",
    "root_window = tk.Tk()\n",
    "# 2. Titel ändern\n",
    "root_window.title(\"Übung 1\")\n",
    "# 3. Label-Widget definieren (zeigt Text an) und packen\n",
    "message = ttk.Label(root_window, text=\"Guten Abend!\")\n",
    "message2 = ttk.Label(root_window, text=\"Es ist Montag, 27. Januar!\")\n",
    "message.pack()\n",
    "message2.pack()\n",
    "# 4. Fenster öffnen\n",
    "root_window.mainloop()"
   ],
   "outputs": [],
   "execution_count": 6
  },
  {
   "cell_type": "markdown",
   "id": "c1b9674c",
   "metadata": {},
   "source": [
    "## Exkurs: Funktionen als Argumente\n",
    "\n",
    "Bisher haben wir Funktionen geschrieben, die Daten als Argumente nehmen.\n",
    "Zum Beispiel nimmt die folgende Funktion zwei Zahlen:\n",
    "```py\n",
    "def durchschnitt(a, b):\n",
    "    return (a + b) / 2\n",
    "```\n",
    "Aber manchmal möchten wir Funktionen schreiben, die andere Funktionen verwenden.\n",
    "Zum Beispiel führt die folgende Funktion etwas zweimal aus:\n",
    "```py\n",
    "def mache_zweimal(andere_funktion):\n",
    "    andere_funktion()\n",
    "    andere_funktion()\n",
    "```\n",
    "Wie du siehst, ist der Parameter andere_funktion keine Daten, sondern eine andere Funktion.\n",
    "So können wir diese Funktion verwenden:\n",
    "```py\n",
    "def print_hallo():\n",
    "    print(\"Hallo\")\n",
    "\n",
    "mache_zweimal(print_hallo)\n",
    "# Dies druckt: Hallo Hallo\n",
    "```\n",
    "**print_hallo hat als Parameter keine Klammern ()**, da wir die Funktion selbst an mache_zweimal übergeben wollen, nicht ihren Rückgabewert (sie gibt nichts zurück)."
   ]
  },
  {
   "cell_type": "markdown",
   "id": "9447c3f6",
   "metadata": {},
   "source": [
    "## 🎯 Übung 2\n",
    "\n",
    "1. Schreibe eine Funktion namens echo(). Sie soll den Benutzer nach Text fragen und diesen Text dann in der Konsole ausgeben.\n",
    "2. Schreibe eine Funktion namens mache_n_mal(f, n). Sie soll die Funktion f() nicht zweimal, sondern n-mal aufrufen.\n",
    "3. Verwende mache_n_mal mit echo: Rufe die echo-Funktion 4-mal auf."
   ]
  },
  {
   "cell_type": "code",
   "id": "1f436500",
   "metadata": {
    "ExecuteTime": {
     "end_time": "2025-01-27T16:50:55.061422Z",
     "start_time": "2025-01-27T16:50:49.869966Z"
    }
   },
   "source": [
    "# Schreibe deinen Code unter diese Zeile\n",
    "def echo():\n",
    "    print(input())\n",
    "\n",
    "def mache_n_mal(f, n):\n",
    "    for _ in range(n):\n",
    "        f()\n",
    "\n",
    "mache_n_mal(echo, 4)"
   ],
   "outputs": [
    {
     "name": "stdout",
     "output_type": "stream",
     "text": [
      "2\n",
      "3\n",
      "4\n",
      "5\n"
     ]
    }
   ],
   "execution_count": 7
  },
  {
   "cell_type": "markdown",
   "id": "b0968e7b",
   "metadata": {},
   "source": [
    "## Nutzung unserer neuen Fähigkeiten\n",
    "\n",
    "Jetzt, wo wir eine Funktion als Argument an eine andere Funktion übergeben können, können wir mit Buttons beginnen:\n",
    "Ein Button ist eine Box, die eine Funktion aufruft, wenn sie angeklickt wird.\n",
    "Zum Beispiel druckt der folgende Button \"Hallo Welt\" aus, wenn du ihn anklickst:\n",
    "```py\n",
    "root_window = tk.Tk()\n",
    "def hallo_welt(): # Diese Funktion wird aufgerufen\n",
    "    print(\"Hallo Welt\")\n",
    "button = ttk.Button(root_window, text=\"Drucke hallo welt\", command=hallo_welt)\n",
    "button.pack()\n",
    "root_window.mainloop()\n",
    "```"
   ]
  },
  {
   "cell_type": "markdown",
   "id": "ba5d8535",
   "metadata": {},
   "source": [
    "## 🎯 Übung 3\n",
    "\n",
    "1. Erstelle ein neues root-Fenster\n",
    "2. Füge einen \"Verdoppeln\"-Button hinzu. Wenn er angeklickt wird, soll er den Benutzer nach einer Zahl fragen. Dann soll er die Zahl verdoppeln und in der Konsole ausgeben.\n",
    "3. Packe den Button\n",
    "4. Starte das Fenster mit root_window.mainloop(). Probiere deinen Button aus!"
   ]
  },
  {
   "cell_type": "code",
   "id": "ae4129d8",
   "metadata": {
    "ExecuteTime": {
     "end_time": "2025-01-27T16:51:01.559349Z",
     "start_time": "2025-01-27T16:50:55.100596Z"
    }
   },
   "source": [
    "# Schreibe deinen Code unter diese Zeile\n",
    "root_window = tk.Tk()\n",
    "def verdoppeln():\n",
    "    num = int(input())\n",
    "    print(num * 2)\n",
    "button = ttk.Button(root_window, text=\"Verdoppeln!\", command=verdoppeln)\n",
    "button.pack()\n",
    "root_window.mainloop()"
   ],
   "outputs": [
    {
     "name": "stdout",
     "output_type": "stream",
     "text": [
      "8\n"
     ]
    }
   ],
   "execution_count": 8
  },
  {
   "cell_type": "markdown",
   "id": "f437c0aa",
   "metadata": {},
   "source": [
    "## 🎯 Übung 4\n",
    "\n",
    "1. Erstelle ein neues root-Fenster. Setze den Titel auf \"Taschenrechner\"\n",
    "2. Füge einen \"Zwei Zahlen addieren\"-Button hinzu. Wenn er angeklickt wird, soll er den Benutzer nach zwei Zahlen fragen, sie addieren und das Ergebnis in der Konsole ausgeben.\n",
    "3. Packe den Button und starte das Fenster\n",
    "4. (Wenn du Zeit hast), wiederhole (2) für Subtrahieren, Multiplizieren, Dividieren und alles andere, was dir einfällt. Denk daran, den ganzen Code über root_window.mainloop() zu schreiben"
   ]
  },
  {
   "cell_type": "code",
   "id": "653ad836",
   "metadata": {
    "ExecuteTime": {
     "end_time": "2025-01-27T16:51:07.924208Z",
     "start_time": "2025-01-27T16:51:01.573848Z"
    }
   },
   "source": [
    "# Schreibe deinen Code unter diese Zeile\n",
    "root_window = tk.Tk()\n",
    "root_window.title(\"Taschenrechner\")\n",
    "def addieren():\n",
    "    a = int(input())\n",
    "    b = int(input())\n",
    "    print(a+b)\n",
    "def multiplizieren():\n",
    "    a = int(input())\n",
    "    b = int(input())\n",
    "    print(a*b)\n",
    "button = ttk.Button(root_window, text=\"Zwei Zahlen addieren!\", command=addieren)\n",
    "button.pack()\n",
    "button2 = ttk.Button(root_window, text=\"Zwei Zahlen multiplizieren!\", command=multiplizieren)\n",
    "button2.pack()\n",
    "root_window.mainloop()"
   ],
   "outputs": [
    {
     "name": "stdout",
     "output_type": "stream",
     "text": [
      "8\n"
     ]
    }
   ],
   "execution_count": 9
  },
  {
   "cell_type": "markdown",
   "id": "bdbf768c",
   "metadata": {},
   "source": [
    "## Globale Variablen\n",
    "\n",
    "Manchmal muss eine Funktion eine Variable außerhalb von ihr verwenden.\n",
    "Diese Variablen nennt man \"globale Variablen\".\n",
    "Um sie zu verwenden, schreibe `global variable_name`, wie in diesem Beispiel:\n",
    "```py\n",
    "summe = 0\n",
    "def addiere_zur_summe(x):\n",
    "    global summe\n",
    "    summe += x\n",
    "addiere_zur_summe(10)\n",
    "print(summe)\n",
    "```\n",
    "Die Funktion addiert den Parameter x zur globalen Summe."
   ]
  },
  {
   "cell_type": "markdown",
   "id": "55db1b98",
   "metadata": {},
   "source": [
    "## 🎯 Übung 5\n",
    "\n",
    "1. Erstelle ein neues root-Fenster. Setze den Titel auf \"Zähler\"\n",
    "2. Definiere eine Variable \"zaehler\" und setze sie auf null\n",
    "3. Schreibe eine Funktion addiere_zum_zaehler(). Sie soll 1 zum Zähler addieren und ihn dann in der Konsole ausgeben.\n",
    "4. Füge einen Button mit dem Text \"1 addieren\" zum root-Fenster hinzu. Wenn er angeklickt wird, soll er addiere_zum_zaehler() aufrufen.\n",
    "5. Packe den Button und starte das root-Fenster."
   ]
  },
  {
   "cell_type": "code",
   "id": "8ea0887b",
   "metadata": {
    "ExecuteTime": {
     "end_time": "2025-01-27T16:51:14.076246Z",
     "start_time": "2025-01-27T16:51:07.937053Z"
    }
   },
   "source": [
    "# Schreibe deinen Code unter diese Zeile\n",
    "root_window = tk.Tk()\n",
    "zaehler = 0\n",
    "def addiere_zum_zaehler():\n",
    "    global zaehler\n",
    "    zaehler += 1\n",
    "    print(zaehler)\n",
    "button = ttk.Button(root_window, text = \"1 addieren\", command=addiere_zum_zaehler)\n",
    "button.pack()\n",
    "root_window.mainloop()"
   ],
   "outputs": [
    {
     "name": "stdout",
     "output_type": "stream",
     "text": [
      "1\n",
      "2\n",
      "3\n"
     ]
    }
   ],
   "execution_count": 10
  },
  {
   "cell_type": "markdown",
   "id": "9d90290c",
   "metadata": {},
   "source": [
    "## Verwendung von .config()\n",
    "\n",
    "Bisher haben wir alle Werte von Labels und Buttons bei ihrer Erstellung festgelegt.\n",
    "Aber manchmal möchten wir diese Werte auch später in unserem Code ändern.\n",
    "Mit .config() können wir unsere Fenster nach der Erstellung bearbeiten!\n",
    "```py\n",
    "root_window = tk.Tk()\n",
    "label = ttk.Label(root_window, text=\"ABC\")\n",
    "label.pack()\n",
    "# ...\n",
    "label.config(text=\"DEF\")\n",
    "root_window.mainloop()\n",
    "```"
   ]
  },
  {
   "cell_type": "markdown",
   "id": "5fa1049f",
   "metadata": {},
   "source": [
    "## 🎯 Übung 6\n",
    "\n",
    "1. Erstelle ein neues root-Fenster\n",
    "2. Füge einen Button mit `button = ttk.Button(root_window)` hinzu. **Setze hier nichts anderes!**\n",
    "3. Packe den Button\n",
    "4. Verwende button.config() um den Text auf \"Wie ist das Wetter draußen?\" zu setzen\n",
    "5. Schreibe eine Funktion print_wetter(), die das Wetter draußen als String ausgibt. Schau nach draußen, um herauszufinden, wie das Wetter ist :)\n",
    "6. Verwende button.config() erneut, um den command auf print_wetter zu setzen\n",
    "7. Starte die Hauptschleife"
   ]
  },
  {
   "cell_type": "code",
   "id": "73201844",
   "metadata": {
    "ExecuteTime": {
     "end_time": "2025-01-27T16:51:19.175118Z",
     "start_time": "2025-01-27T16:51:14.082960Z"
    }
   },
   "source": [
    "# Schreibe deinen Code unter diese Zeile\n",
    "root_window = tk.Tk()\n",
    "def print_wetter():\n",
    "    print(\"Kalt aber sonnig\")\n",
    "button = ttk.Button(root_window)\n",
    "button.pack()\n",
    "button.config(text = \"Wie ist das Wetter draußen?\")\n",
    "button.config(command=print_wetter)\n",
    "root_window.mainloop()"
   ],
   "outputs": [
    {
     "name": "stdout",
     "output_type": "stream",
     "text": [
      "Kalt aber sonnig\n"
     ]
    }
   ],
   "execution_count": 11
  },
  {
   "cell_type": "markdown",
   "id": "ca865c34",
   "metadata": {},
   "source": [
    "## 🎯 Übung 7\n",
    "\n",
    "Lass uns nun Übungen 5 und 6 kombinieren, um einen Button zu schreiben, der ein Label mit .config() ändert\n",
    "\n",
    "1. Erstelle ein neues root-Fenster\n",
    "2. Erstelle ein neues Label mit dem Text \"Wetter: Sonnig und warm\"\n",
    "3. Erstelle einen neuen \"Es regnet jetzt\"-Button. Wenn er angeklickt wird, soll er den Text des Labels auf \"Wetter: Es regnet\" setzen\n",
    "4. Packe den Button und das Label und starte die Hauptschleife"
   ]
  },
  {
   "cell_type": "code",
   "id": "c57ae8bc",
   "metadata": {
    "ExecuteTime": {
     "end_time": "2025-01-27T16:51:21.991286Z",
     "start_time": "2025-01-27T16:51:19.188416Z"
    }
   },
   "source": [
    "# Schreibe deinen Code unter diese Zeile\n",
    "root_window = tk.Tk()\n",
    "label = ttk.Label(root_window, text=\"Wetter: Sonnig und warm\")\n",
    "def es_regnet_jetzt():\n",
    "    global label # Dies ist technisch gesehen nicht notwendig\n",
    "    label.config(text = \"Wetter: Es regnet\")\n",
    "button = ttk.Button(root_window, text=\"Es regnet jetzt\", command=es_regnet_jetzt)\n",
    "label.pack()\n",
    "button.pack()\n",
    "root_window.mainloop()"
   ],
   "outputs": [],
   "execution_count": 12
  },
  {
   "cell_type": "markdown",
   "id": "9b9790a3",
   "metadata": {
    "lines_to_next_cell": 0
   },
   "source": [
    "## User Input\n",
    "\n",
    "Bis jetzt konnten wir Eingaben vom Nutzer nur über `input` als pop-up in Visual Studio Code lesen.\n",
    "Um auch Eingaben innerhalb der GUI zu erhalten, brauchen wir ein neues Widget: `ttk.Entry`, wo die Nutzer Text eingeben können:\n",
    "\n",
    "```py\n",
    "root_window = tk.Tk()\n",
    "textbox = ttk.Entry(root_window)\n",
    "textbox.pack()\n",
    "textbox.focus() # Fokus setzen (Dann kann der User sofort tippen, sonst muss er das Feld selbst vorher klicken)\n",
    "root_window.mainloop()\n",
    "```\n",
    "\n",
    "Mit `message = textbox.get()` bekommen wir die aktuelle Eingabe in der textbox, und speichern sie in einer Variable namens message."
   ]
  },
  {
   "cell_type": "markdown",
   "id": "dfc4c16b",
   "metadata": {
    "lines_to_next_cell": 0
   },
   "source": [
    "## Exercise 8\n",
    "\n",
    "1. Erstelle ein neues Fenster. Füge zwei Widgets hinzu: Eine textbox (`ttk.Entry`) und ein Button (`ttk.Button`)\n",
    "2. Gib dem Button den Text \"Eingabe lesen\" und setze seinen Befehl so, dass er mit textbox.get() die Eingabe liest und dann mit in die Konsole ausgibt.\n",
    "3. Packe die Widgets und öffne das Fenster mit `root_window.mainloop()`"
   ]
  },
  {
   "cell_type": "code",
   "id": "269bcf85",
   "metadata": {
    "ExecuteTime": {
     "end_time": "2025-01-27T16:51:29.392031Z",
     "start_time": "2025-01-27T16:51:22.003399Z"
    }
   },
   "source": [
    "# Schreibe deinen Code unter diese Zeile\n",
    "\n",
    "root_window = tk.Tk()\n",
    "textbox = ttk.Entry(root_window)\n",
    "textbox.pack()\n",
    "textbox.focus() # Fokus setzen (Dann kann der User sofort tippen, sonst muss er das Feld selbst vorher klicken)\n",
    "def eingabe_lesen():\n",
    "    print(textbox.get())\n",
    "button = ttk.Button(root_window, text = \"Eingabe lesen\",command=eingabe_lesen)\n",
    "button.pack()\n",
    "root_window.mainloop()"
   ],
   "outputs": [
    {
     "name": "stdout",
     "output_type": "stream",
     "text": [
      "hi\n"
     ]
    }
   ],
   "execution_count": 13
  }
 ],
 "metadata": {
  "jupytext": {
   "cell_metadata_filter": "-all",
   "main_language": "python",
   "notebook_metadata_filter": "-all"
  },
  "kernelspec": {
   "name": "python3",
   "language": "python",
   "display_name": "Python 3 (ipykernel)"
  }
 },
 "nbformat": 4,
 "nbformat_minor": 5
}
