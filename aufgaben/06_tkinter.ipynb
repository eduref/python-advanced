{
 "cells": [
  {
   "cell_type": "markdown",
   "metadata": {},
   "source": [
    "# TKinter\n",
    "\n",
    "Until now, you only used the console (print()) and the input popup (input()).\n",
    "But real applications have many more options for their user interface design!\n",
    "\n",
    "First of all, we need to import the tkinter library, and themed tkinter widgets (ttk):\n",
    "(You only have to run this code once, when you open the notebook)"
   ]
  },
  {
   "cell_type": "code",
   "execution_count": 15,
   "metadata": {},
   "outputs": [],
   "source": [
    "import tkinter as tk\n",
    "from tkinter import ttk"
   ]
  },
  {
   "cell_type": "markdown",
   "metadata": {},
   "source": [
    "## Using tkinter\n",
    "\n",
    "To create your first window with tk, you need these two commands:\n",
    "\n",
    "1. `root_window = tk.Tk()` creates a new window\n",
    "2. `root_window.mainloop()` opens the window\n",
    "\n",
    "Any code after .mainloop() will only run after the window is closed!\n",
    "\n",
    "So, for example, if you want to change the window title with `root_window.title(\"New title\")`, you have to do it before you call mainloop!"
   ]
  },
  {
   "cell_type": "code",
   "execution_count": null,
   "metadata": {},
   "outputs": [
    {
     "name": "stdout",
     "output_type": "stream",
     "text": [
      "Window closed\n"
     ]
    }
   ],
   "source": [
    "root_window = tk.Tk()\n",
    "root_window.title(\"Your first window\")\n",
    "root_window.mainloop()\n",
    "# This code runs after the window closes!\n",
    "print(\"Window closed\")"
   ]
  },
  {
   "cell_type": "markdown",
   "metadata": {},
   "source": [
    "## Showing text\n",
    "\n",
    "All content inside windows is stored as widgets. You must first define all widgets, then pack all widgets and then run mainloop.\n",
    "\n",
    "For example:\n",
    "```py\n",
    "root_window = tk.Tk()\n",
    "# 1. Define Label widget (shows text)\n",
    "message = ttk.Label(root_window, text=\"Hello, World!\")\n",
    "# 2. Pack the widget (add it to the window)\n",
    "message.pack()\n",
    "# 3. Open the window\n",
    "root_window.mainloop()\n",
    "```\n",
    "**Remember to always call mainloop() last, and pack all widgets before!**\n",
    "\n",
    "**Note**: The label is t**t**k.Label(), not tk.Label()"
   ]
  },
  {
   "cell_type": "markdown",
   "metadata": {},
   "source": [
    "## Exercise 1\n",
    "\n",
    "1. Create a new window. \n",
    "2. Set the window title to \"Exercise 1\"\n",
    "3. Add two labels: \"Good evening!\" and \"It is (current date)\", for example \"It is Monday, January 27th\". Remember to pack them with .pack() !\n",
    "4. Open the window"
   ]
  },
  {
   "cell_type": "code",
   "execution_count": 16,
   "metadata": {},
   "outputs": [],
   "source": [
    "# Write your code after this line\n",
    "# 1. Create a new window\n",
    "root_window = tk.Tk()\n",
    "# 2. Change title\n",
    "root_window.title(\"Exercise 1\")\n",
    "# 3. Define Label widget (shows text) and pack it\n",
    "message = ttk.Label(root_window, text=\"Good evening!\")\n",
    "message2 = ttk.Label(root_window, text=\"It is Monday, January 27th!\")\n",
    "message.pack()\n",
    "message2.pack()\n",
    "# 4. Open the window\n",
    "root_window.mainloop()"
   ]
  }
 ],
 "metadata": {
  "kernelspec": {
   "display_name": "usr",
   "language": "python",
   "name": "python3"
  },
  "language_info": {
   "codemirror_mode": {
    "name": "ipython",
    "version": 3
   },
   "file_extension": ".py",
   "mimetype": "text/x-python",
   "name": "python",
   "nbconvert_exporter": "python",
   "pygments_lexer": "ipython3",
   "version": "3.12.7"
  }
 },
 "nbformat": 4,
 "nbformat_minor": 2
}
