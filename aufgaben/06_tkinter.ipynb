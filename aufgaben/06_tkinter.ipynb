{
 "cells": [
  {
   "cell_type": "markdown",
   "metadata": {},
   "source": [
    "# TKinter\n",
    "\n",
    "Until now, you only used the console (print()) and the input popup (input()).\n",
    "But real applications have many more options for their user interface design!\n",
    "\n",
    "First of all, we need to import the tkinter library, and themed tkinter widgets (ttk):\n",
    "(You only have to run this code once, when you open the notebook)"
   ]
  },
  {
   "cell_type": "code",
   "execution_count": 2,
   "metadata": {},
   "outputs": [],
   "source": [
    "import tkinter as tk\n",
    "from tkinter import ttk"
   ]
  },
  {
   "cell_type": "markdown",
   "metadata": {},
   "source": [
    "## Using tkinter\n",
    "\n",
    "To create your first window with tk, you need these two commands:\n",
    "\n",
    "1. `root_window = tk.Tk()` creates a new window\n",
    "2. `root_window.mainloop()` opens the window\n",
    "\n",
    "Any code after .mainloop() will only run after the window is closed!\n",
    "\n",
    "So, for example, if you want to change the window title with `root_window.title(\"New title\")`, you have to do it before you call mainloop!"
   ]
  },
  {
   "cell_type": "code",
   "execution_count": 2,
   "metadata": {},
   "outputs": [
    {
     "name": "stdout",
     "output_type": "stream",
     "text": [
      "Window closed\n"
     ]
    }
   ],
   "source": [
    "root_window = tk.Tk()\n",
    "root_window.title(\"Your first window\")\n",
    "root_window.mainloop()\n",
    "# This code runs after the window closes!\n",
    "print(\"Window closed\")"
   ]
  },
  {
   "cell_type": "markdown",
   "metadata": {},
   "source": [
    "## Showing text\n",
    "\n",
    "All content inside windows is stored as widgets. You must first define all widgets, then pack all widgets and then run mainloop.\n",
    "\n",
    "For example:\n",
    "```py\n",
    "root_window = tk.Tk()\n",
    "# 1. Define Label widget (shows text)\n",
    "message = ttk.Label(root_window, text=\"Hello, World!\")\n",
    "# 2. Pack the widget (add it to the window)\n",
    "message.pack()\n",
    "# 3. Open the window\n",
    "root_window.mainloop()\n",
    "```\n",
    "**Remember to always call mainloop() last, and pack all widgets before!**\n",
    "\n",
    "**Note**: The label is t**t**k.Label(), not tk.Label()"
   ]
  },
  {
   "cell_type": "markdown",
   "metadata": {},
   "source": [
    "## Exercise 1\n",
    "\n",
    "1. Create a new window. \n",
    "2. Set the window title to \"Exercise 1\"\n",
    "3. Add two labels: \"Good evening!\" and \"It is (current date)\", for example \"It is Monday, January 27th\". Remember to pack them with .pack() !\n",
    "4. Open the window"
   ]
  },
  {
   "cell_type": "code",
   "execution_count": 3,
   "metadata": {},
   "outputs": [],
   "source": [
    "# Write your code after this line\n",
    "# 1. Create a new window\n",
    "root_window = tk.Tk()\n",
    "# 2. Change title\n",
    "root_window.title(\"Exercise 1\")\n",
    "# 3. Define Label widget (shows text) and pack it\n",
    "message = ttk.Label(root_window, text=\"Good evening!\")\n",
    "message2 = ttk.Label(root_window, text=\"It is Monday, January 27th!\")\n",
    "message.pack()\n",
    "message2.pack()\n",
    "# 4. Open the window\n",
    "root_window.mainloop()"
   ]
  },
  {
   "cell_type": "markdown",
   "metadata": {},
   "source": [
    "## Detour: Functions as arguments\n",
    "\n",
    "Until now, we wrote functions that take data as arguments.\n",
    "For example, the following function takes two numbers:\n",
    "```py\n",
    "def average(a, b):\n",
    "    return (a + b) / 2\n",
    "\n",
    "```\n",
    "But sometimes, we want to write functions that use other functions.\n",
    "For example, the following functions does something twice:\n",
    "```py\n",
    "def do_twice(other_function):\n",
    "    other_function()\n",
    "    other_function()\n",
    "```\n",
    "As you can see, the parameter other_function is not data, but a different function.\n",
    "Here is how we could use this function:\n",
    "```py\n",
    "def print_hello():\n",
    "    print(\"Hello\")\n",
    "\n",
    "do_twice(print_hello)\n",
    "# This prints: Hello Hello\n",
    "```\n",
    "**print_hello, when given as a parameter, does not have braces ()**, as we want to pass the function itself to do_twice, not its return value (it does not return anything)."
   ]
  },
  {
   "cell_type": "markdown",
   "metadata": {},
   "source": [
    "## Exercise 2\n",
    "\n",
    "1. Write a function called echo(). It asks the user for text, and then prints that text to the console.\n",
    "2. Write a function called do_n_times(f, n). It calls the function f() not twice, but n times.\n",
    "3. Use do_n_times with echo: Call the echo function 4 times."
   ]
  },
  {
   "cell_type": "code",
   "execution_count": 4,
   "metadata": {},
   "outputs": [
    {
     "name": "stdout",
     "output_type": "stream",
     "text": [
      "a\n",
      "b\n",
      "c\n",
      "d\n"
     ]
    }
   ],
   "source": [
    "# Write your code after this line\n",
    "def echo():\n",
    "    print(input())\n",
    "\n",
    "def do_n_times(f, n):\n",
    "    for _ in range(n):\n",
    "        f()\n",
    "\n",
    "do_n_times(echo, 4)"
   ]
  },
  {
   "cell_type": "markdown",
   "metadata": {},
   "source": [
    "## Using our new powers\n",
    "\n",
    "Now that we can give one function as an argument to another function, we can start using buttons:\n",
    "A button is a box that calls a function when it is clicked.\n",
    "For example, the following button prints \"Hello World\" when you click it:\n",
    "```py\n",
    "root_window = tk.Tk()\n",
    "def hello_world(): # This function will be called\n",
    "    print(\"Hello World\")\n",
    "button = ttk.Button(root_window, text=\"Print hello world\", command=hello_world)\n",
    "button.pack()\n",
    "root_window.mainloop()\n",
    "```"
   ]
  },
  {
   "cell_type": "markdown",
   "metadata": {},
   "source": [
    "## Exercise 3\n",
    "\n",
    "1. Create a new root window\n",
    "2. Add a \"double it\" button to it. When it is clicked, it should ask the user for a number. Then, it should double the number and print it to the console.\n",
    "3. Pack the button\n",
    "4. Start the window with root_window.mainloop(). Try out your button!"
   ]
  },
  {
   "cell_type": "code",
   "execution_count": 4,
   "metadata": {},
   "outputs": [
    {
     "name": "stdout",
     "output_type": "stream",
     "text": [
      "2\n"
     ]
    }
   ],
   "source": [
    "# Write your code after this line\n",
    "root_window = tk.Tk()\n",
    "def double_it():\n",
    "    num = int(input())\n",
    "    print(num * 2)\n",
    "button = ttk.Button(root_window, text=\"Double It!\", command=double_it)\n",
    "button.pack()\n",
    "root_window.mainloop()"
   ]
  },
  {
   "cell_type": "markdown",
   "metadata": {},
   "source": [
    "## Exercise 4\n",
    "\n",
    "1. Create a new root window. Set the title to \"Calculator\"\n",
    "2. Add an \"Add two numbers\" button to it. When clicked, it should ask the user for two numbers, add them and print the result to the console.\n",
    "3. Pack the button and start the window\n",
    "4. (If you have the time), repeat (2) for subtract, multiply, divide and anything else you can think of. Remember to put all other code above root_window.mainloop()"
   ]
  },
  {
   "cell_type": "code",
   "execution_count": 11,
   "metadata": {},
   "outputs": [
    {
     "name": "stdout",
     "output_type": "stream",
     "text": [
      "54\n"
     ]
    }
   ],
   "source": [
    "# Write your code after this line\n",
    "root_window = tk.Tk()\n",
    "root_window.title(\"Calculator\")\n",
    "def add():\n",
    "    a = int(input())\n",
    "    b = int(input())\n",
    "    print(a+b)\n",
    "def multiply():\n",
    "    a = int(input())\n",
    "    b = int(input())\n",
    "    print(a*b)\n",
    "button = ttk.Button(root_window, text=\"Add two numbers!\", command=add)\n",
    "button.pack()\n",
    "button2 = ttk.Button(root_window, text=\"Multiply two numbers!\", command=multiply)\n",
    "button2.pack()\n",
    "root_window.mainloop()"
   ]
  },
  {
   "cell_type": "markdown",
   "metadata": {},
   "source": [
    "## Globals\n",
    "\n",
    "Sometimes, a function needs to use a variable outside of it.\n",
    "Those variables are called \"global variables\".\n",
    "To use them, write `global variable_name`, like in this example:\n",
    "```py\n",
    "sum = 0\n",
    "def add_to_sum(x):\n",
    "    global sum\n",
    "    sum += x\n",
    "add_to_sum(10)\n",
    "print(sum)\n",
    "```\n",
    "The function adds the parameter x to the global sum."
   ]
  },
  {
   "cell_type": "markdown",
   "metadata": {},
   "source": [
    "## Exercise 5\n",
    "\n",
    "1. Create a new root window. Set its title to \"Counter\"\n",
    "2. Define a variable \"count\" and set it to zero\n",
    "3. Write a function add_to_count(). It should add 1 to the count, and then print it to the console.\n",
    "4. Add a button called \"Add 1\" to the root window. When clicked, it should call add_to_count().\n",
    "5. Pack the button and start the root window."
   ]
  },
  {
   "cell_type": "code",
   "execution_count": 19,
   "metadata": {},
   "outputs": [
    {
     "name": "stdout",
     "output_type": "stream",
     "text": [
      "1\n"
     ]
    }
   ],
   "source": [
    "# Write your code after this line\n",
    "root_window = tk.Tk()\n",
    "count = 0\n",
    "def add_to_count():\n",
    "    global count\n",
    "    count += 1\n",
    "    print(count)\n",
    "button = ttk.Button(root_window, text = \"Add 1\", command=add_to_count)\n",
    "button.pack()\n",
    "root_window.mainloop()"
   ]
  },
  {
   "cell_type": "markdown",
   "metadata": {},
   "source": [
    "## Using .config()\n",
    "\n",
    "Until now, we set all values of Labels and Buttons when we create them.\n",
    "But sometimes, we want to change these values later on in our code as well.\n",
    "Using .config(), we can edit our windows after creating them!\n",
    "```py\n",
    "root_window = tk.Tk()\n",
    "label = ttk.Label(root_window, text=\"ABC\")\n",
    "label.pack()\n",
    "# ...\n",
    "label.config(text=\"DEF\")\n",
    "root_window.mainloop()\n",
    "```"
   ]
  },
  {
   "cell_type": "markdown",
   "metadata": {},
   "source": [
    "## Exercise 6\n",
    "\n",
    "1. Create a new root window\n",
    "2. Add a button with `button = ttk.Button(root_window)`. **Do not set anything else here!**\n",
    "3. Pack the button\n",
    "4. Use button.config() to set the text to \"What is the weather outside?\"\n",
    "5. Write a function print_weather() that prints the weather outside as a string. Look outside to find out what the weather outside is :)\n",
    "6. Use button.config() again to set the command to print_weather\n",
    "7. Start the main loop"
   ]
  },
  {
   "cell_type": "code",
   "execution_count": 16,
   "metadata": {},
   "outputs": [
    {
     "name": "stdout",
     "output_type": "stream",
     "text": [
      "Cold but sunny\n",
      "Cold but sunny\n"
     ]
    }
   ],
   "source": [
    "# Write your code after this line\n",
    "root_window = tk.Tk()\n",
    "def print_weather():\n",
    "    print(\"Cold but sunny\")\n",
    "button = ttk.Button(root_window)\n",
    "button.pack()\n",
    "button.config(text = \"What's the weather outside?\")\n",
    "button.config(command=print_weather)\n",
    "root_window.mainloop()"
   ]
  },
  {
   "cell_type": "markdown",
   "metadata": {},
   "source": [
    "## Exercise 7\n",
    "\n",
    "Let us now combine exercises 5 and 6 to write a button that changes a label with .config()\n",
    "\n",
    "1. Create a new root window\n",
    "2. Create a new label with the text \"Weather: Sunny and warm\"\n",
    "3. Create a new \"It rains now\" button. When clicked, it should set the text of the label to \"Weather: It is raining\"\n",
    "4. Pack the button and the label and start the main loop"
   ]
  },
  {
   "cell_type": "code",
   "execution_count": 21,
   "metadata": {},
   "outputs": [],
   "source": [
    "# Write your code after this line\n",
    "root_window = tk.Tk()\n",
    "label = ttk.Label(root_window, text=\"Weather: Sunny and warm\")\n",
    "def it_rains_now():\n",
    "    global label # This is technically unnecessary\n",
    "    label.config(text = \"Weather: It is raining\")\n",
    "button = ttk.Button(root_window, text=\"It rains now\", command=it_rains_now)\n",
    "label.pack()\n",
    "button.pack()\n",
    "root_window.mainloop()"
   ]
  }
 ],
 "metadata": {
  "kernelspec": {
   "display_name": "usr",
   "language": "python",
   "name": "python3"
  },
  "language_info": {
   "codemirror_mode": {
    "name": "ipython",
    "version": 3
   },
   "file_extension": ".py",
   "mimetype": "text/x-python",
   "name": "python",
   "nbconvert_exporter": "python",
   "pygments_lexer": "ipython3",
   "version": "3.12.7"
  }
 },
 "nbformat": 4,
 "nbformat_minor": 2
}
