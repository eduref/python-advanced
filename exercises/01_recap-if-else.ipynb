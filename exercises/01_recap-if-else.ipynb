{
 "cells": [
  {
   "cell_type": "markdown",
   "id": "642312d6",
   "metadata": {},
   "source": [
    "# if-else"
   ]
  },
  {
   "cell_type": "markdown",
   "id": "a41a1b2c",
   "metadata": {},
   "source": [
    "## if()\n",
    "\n",
    "To have a non-linear program flow, we need branching. Branches are created with the `if` statement. The `if` statement is followed by a boolean expression and a code block. If the boolean expression evaluates to `True`, the code block is executed. If the boolean expression evaluates to `False`, the code block is skipped.\n",
    "\n",
    "```python\n",
    "age1 = 25\n",
    "age2 = 12\n",
    "\n",
    "if age1 > age2:\n",
    "    print(\"age1 is greater than age2\")\n",
    "\n",
    "if age2 > age1:\n",
    "    print(\"age2 is greater than age1\")\n",
    "```"
   ]
  },
  {
   "cell_type": "markdown",
   "id": "7cbe0019",
   "metadata": {},
   "source": [
    "## Exercise 1\n",
    "\n",
    "Write a program that asks the user for a number and outputs whether the number is even or odd. (Odd numbers: 1, 3, 5, 7, 9, ... Even numbers: 0, 2, 4, 6, 8, ...)\n",
    "\n",
    "**Reminder 1:** The modulo operator `%` returns the remainder of a division between two numbers. For example, `5 % 2` gives the value `1` because `5 / 2` has a remainder of `1`.\n",
    "\n",
    "**Reminder 2:** The input function reads user input and returns a string. You need to convert the string to an integer using the `int()` function."
   ]
  },
  {
   "cell_type": "code",
   "execution_count": null,
   "id": "ae126166",
   "metadata": {},
   "outputs": [],
   "source": [
    "# Write your code below this line"
   ]
  },
  {
   "cell_type": "markdown",
   "id": "be204fc8",
   "metadata": {},
   "source": [
    "## else\n",
    "\n",
    "- To simplify the code above, we can use `if-else` instead of just `if`.\n",
    "- The `if-else` statement is followed by a boolean expression and two code blocks.\n",
    "    - If the boolean expression = `True`, the if block is executed.\n",
    "    - If the boolean expression = `False`, the else block is executed."
   ]
  },
  {
   "cell_type": "markdown",
   "id": "c20da6a0",
   "metadata": {},
   "source": [
    "## elif()\n",
    "\n",
    "- We can use `else if` or the short form `elif` when more than two cases need to be covered.\n",
    "- `elif` behaves similar to an `if` statement. If the boolean expression evaluates to `False`, the next `elif` or `else` statement is evaluated."
   ]
  },
  {
   "cell_type": "code",
   "execution_count": null,
   "id": "b4a4c0fc",
   "metadata": {},
   "outputs": [],
   "source": [
    "# Example\n",
    "number = 25\n",
    "\n",
    "if number % 2 == 0:\n",
    "    print(\"The number is divisible by 2\")\n",
    "elif number % 3 == 0:\n",
    "    print(\"The number is divisible by 3\")\n",
    "else:\n",
    "    print(\"The number is neither divisible by 2 nor by 3\")"
   ]
  },
  {
   "cell_type": "markdown",
   "id": "795cc93a",
   "metadata": {},
   "source": [
    "## Exercise 2\n",
    "\n",
    "- Write a program that asks the user for a word and then outputs whether the letter \"a\" appears in the word, whether the letter \"b\" appears in the word, or whether both or neither of the letters appear in the word.\n",
    "**Possible outputs:** \"Both\", \"Only a\", \"Only b\", \"Neither a nor b\".\n",
    "<details>\n",
    "    <summary><strong>Hint</strong></summary>\n",
    "    To check if a word contains a letter, you can use the `in` operator.\n",
    "</details>"
   ]
  },
  {
   "cell_type": "code",
   "execution_count": null,
   "id": "102706e2",
   "metadata": {},
   "outputs": [],
   "source": [
    "# Write your code below this line"
   ]
  },
  {
   "cell_type": "markdown",
   "id": "b58cd479",
   "metadata": {},
   "source": [
    "## Bonus Exercise\n",
    "\n",
    "Write a program that asks the user for a number or a word.\n",
    "- If the input is a number, the following should be checked:\n",
    "    - Whether the number is even or odd\n",
    "    - If the number is odd, output \"odd\". If the number is even, output \"even\".\n",
    "    - If the number is divisible by 4, output \"divisible by 4\".\n",
    "    - If the number is divisible by 4 and greater than 100, output \"greater than 100\".\n",
    "    - If the number is divisible by 4 and less than 100, output \"less than 100\".\n",
    "    - If the number is not divisible by 4, output \"not divisible by 4\".\n",
    "\n",
    "- If the input is a word, the following should be checked:\n",
    "    - Whether the word contains the letter \"a\"\n",
    "    - Whether the word contains the letter \"b\"\n",
    "    - Whether both or neither of the letters appear in the word\n",
    "\n",
    "<details>\n",
    "    <summary><strong>Hint</strong></summary>\n",
    "    You can use the <strong>isnumeric()</strong> function to check if a variable is a number or a string. For example, `\"123\".isnumeric()` returns `True` and `\"abc\".isnumeric()` returns `False`.\n",
    "</details>"
   ]
  },
  {
   "cell_type": "code",
   "execution_count": null,
   "id": "9979b4ad",
   "metadata": {},
   "outputs": [],
   "source": [
    "# Write your code below this line "
   ]
  }
 ],
 "metadata": {
  "jupytext": {
   "cell_metadata_filter": "-all",
   "main_language": "python",
   "notebook_metadata_filter": "-all"
  }
 },
 "nbformat": 4,
 "nbformat_minor": 5
}
