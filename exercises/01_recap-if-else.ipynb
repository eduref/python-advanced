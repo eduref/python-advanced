{
 "cells": [
  {
   "cell_type": "markdown",
   "id": "1046d4cc",
   "metadata": {},
   "source": [
    "# if-else"
   ]
  },
  {
   "cell_type": "markdown",
   "id": "e2b37656",
   "metadata": {},
   "source": [
    "## if()\n",
    "\n",
    "To have a non-linear program flow, we need branches. Branches are created with the `if` statement. The `if` statement is followed by a boolean expression and a code block. If the boolean expression evaluates to `True`, the code block is executed. If the boolean expression evaluates to `False`, the code block is skipped.\n",
    "\n",
    "```python\n",
    "age1 = 25\n",
    "age2 = 12\n",
    "\n",
    "if age1 > age2:\n",
    "    print(\"age1 is greater than age2\")\n",
    "\n",
    "if age2 > age1:\n",
    "    print(\"age2 is greater than age1\")\n",
    "```"
   ]
  },
  {
   "cell_type": "markdown",
   "id": "a93fd98d",
   "metadata": {},
   "source": [
    "## Exercise 1\n",
    "\n",
    "Write a program that asks the user for a number and outputs whether the number is even or odd. (Odd numbers: 1, 3, 5, 7, 9, ... Even numbers: 0, 2, 4, 6, 8, ...)\n",
    "\n",
    "**Reminder 1:** The modulo operator `%` returns the remainder of a division of two numbers. For example, `5 % 2` gives the value `1` because `5 / 2` has a remainder of `1`.\n",
    "\n",
    "**Reminder 2:** The input function reads user input and returns a string. You must convert the string to an integer using the `int()` function."
   ]
  },
  {
   "cell_type": "code",
   "execution_count": null,
   "id": "98f8e668",
   "metadata": {},
   "outputs": [],
   "source": [
    "# Write your code below this line\n",
    "\n",
    "\n",
    "# Solution to Exercise 1\n",
    "number = int(input(\"Enter a number: \"))\n",
    "\n",
    "if number % 2 == 0:\n",
    "    print(\"The number \", number, \" is even\")\n",
    "\n",
    "if number % 2 != 0:\n",
    "    print(\"The number \", number, \" is odd\")"
   ]
  },
  {
   "cell_type": "markdown",
   "id": "71b408bb",
   "metadata": {},
   "source": [
    "## else\n",
    "\n",
    "- To simplify the code above, we can use `if-else` instead of `if`.\n",
    "- The `if-else` statement is followed by a boolean expression and two code blocks.\n",
    "    - If the boolean expression = `True`, the if block is executed.\n",
    "    - If the boolean expression = `False`, the else block is executed."
   ]
  },
  {
   "cell_type": "markdown",
   "id": "9143ef87",
   "metadata": {},
   "source": [
    "## elif()\n",
    "\n",
    "- We can use `else if` or the short form `elif` when more than two cases need to be covered.\n",
    "- `elif` behaves similar to an `if` statement. If the boolean expression evaluates to `False`, the next `elif` or `else` statement is evaluated."
   ]
  },
  {
   "cell_type": "code",
   "execution_count": null,
   "id": "b1960641",
   "metadata": {},
   "outputs": [],
   "source": [
    "# Example\n",
    "number = 25\n",
    "\n",
    "if number % 2 == 0:\n",
    "    print(\"The number is divisible by 2\")\n",
    "elif number % 3 == 0:\n",
    "    print(\"The number is divisible by 3\")\n",
    "else:\n",
    "    print(\"The number is neither divisible by 2 nor by 3\")"
   ]
  },
  {
   "cell_type": "markdown",
   "id": "dd450e4d",
   "metadata": {},
   "source": [
    "## Exercise 2\n",
    "\n",
    "- Write a program that asks the user for a word and then outputs whether the letter \"a\" appears in the word, whether the letter \"b\" appears in the word, or whether both or neither of the letters appear in the word.\n",
    "**Possible outputs:** \"Both\", \"Only a\", \"Only b\", \"Neither a nor b\".\n",
    "<details>\n",
    "    <summary><strong>Hint</strong></summary>\n",
    "    To check if a word contains a letter, you can use the `in` operator.\n",
    "</details>"
   ]
  },
  {
   "cell_type": "code",
   "execution_count": null,
   "id": "737be76e",
   "metadata": {},
   "outputs": [],
   "source": [
    "# Write your code below this line\n",
    "\n",
    "\n",
    "# Solution to Exercise 2\n",
    "word = input(\"Enter a word: \") # get input\n",
    "\n",
    "if \"a\" in word and \"b\" in word: # check for both a and b\n",
    "    print(\"The word \", word, \" contains both a and b\")\n",
    "\n",
    "elif \"a\" in word: # check for a\n",
    "    print(\"The word \", word, \" contains the letter a\")\n",
    "\n",
    "elif \"b\" in word: # check for b only if a is not present\n",
    "    print(\"The word \", word, \" contains the letter b\")\n",
    "\n",
    "else: # all other cases\n",
    "    print(\"The word \", word, \" contains neither a nor b\")"
   ]
  },
  {
   "cell_type": "markdown",
   "id": "d6ba1a03",
   "metadata": {},
   "source": [
    "## Bonus Exercise\n",
    "\n",
    "Write a program that asks the user for a number or a word.\n",
    "- If the input is a number, the following should be checked:\n",
    "    - Whether the number is even or odd\n",
    "    - If the number is odd, output \"odd\". If the number is even, output \"even\".\n",
    "    - If the number is divisible by 4, output \"divisible by 4\".\n",
    "    - If the number is divisible by 4 and greater than 100, output \"greater than 100\".\n",
    "    - If the number is divisible by 4 and less than 100, output \"less than 100\".\n",
    "    - If the number is not divisible by 4, output \"not divisible by 4\".\n",
    "\n",
    "- If the input is a word, the following should be checked:\n",
    "    - Whether the word contains the letter \"a\"\n",
    "    - Whether the word contains the letter \"b\"\n",
    "    - Whether both or neither of the letters appear in the word\n",
    "\n",
    "<details>\n",
    "    <summary><strong>Hint</strong></summary>\n",
    "    You can use the <strong>isnumeric()</strong> function to check if a variable is a number or a string. For example, `\"123\".isnumeric()` returns `True` and `\"abc\".isnumeric()` returns `False`.\n",
    "</details>"
   ]
  },
  {
   "cell_type": "code",
   "execution_count": null,
   "id": "5848a8f1",
   "metadata": {},
   "outputs": [],
   "source": [
    "# Write your code below this line\n",
    "\n",
    "\n",
    "# Solution to Bonus Exercise\n",
    "user_input = input(\"Enter a number or a word: \")\n",
    "if user_input.isnumeric():\n",
    "    print(\"The input is a number\")\n",
    "    num = int(user_input)\n",
    "    if num % 2 == 0:\n",
    "        print(\"The number is even\")\n",
    "        if num % 4 == 0:\n",
    "            print(\"The number is divisible by 4\")\n",
    "            if num > 100:\n",
    "                print(\"The number is greater than 100\")\n",
    "            else:\n",
    "                print(\"The number is not greater than 100\")\n",
    "        else:\n",
    "            print(\"The number is not divisible by 4\")\n",
    "    else:\n",
    "        print(\"The number is odd\")\n",
    "else:\n",
    "    print(\"The input is a word\")\n",
    "    if \"a\" in user_input and \"b\" in user_input:\n",
    "        print(\"The word \", user_input, \" contains both a and b\")\n",
    "    elif \"a\" in user_input:\n",
    "        print(\"The word \", user_input, \" contains the letter a\")\n",
    "    elif \"b\" in user_input:\n",
    "        print(\"The word \", user_input, \" contains the letter b\")\n",
    "    else:\n",
    "        print(\"The word \", user_input, \" contains neither a nor b\") "
   ]
  }
 ],
 "metadata": {
  "jupytext": {
   "cell_metadata_filter": "-all",
   "main_language": "python",
   "notebook_metadata_filter": "-all"
  }
 },
 "nbformat": 4,
 "nbformat_minor": 5
}
