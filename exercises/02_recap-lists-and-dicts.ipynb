{
  "cells": [
    {
      "cell_type": "markdown",
      "metadata": {},
      "source": [
        "## Introduction to Lists and Dictionaries in Python\n",
        "\n",
        "In this lesson, we will explore data types that allow us to store multiple pieces of information at once, such as multiple numbers or names. In Python, this can be efficiently achieved using lists and dictionaries.\n",
        "\n",
        "### Why Do We Need Lists?\n",
        "\n",
        "Imagine you want to send an email to all your friends. You could create a separate variable for each friend in Python:\n",
        "```python\n",
        "friend1 = \"anne\"\n",
        "friend2 = \"mustafa\"\n",
        "friend3 = \"steven\"\n",
        "```\n",
        "\n",
        "However, this approach is very tedious. Now, compare it to using a list:\n",
        "```python\n",
        "friends = [\"anne\", \"mustafa\", \"steven\"]\n",
        "```\n",
        "Much better, right?\n",
        "Lists allow us to store data efficiently and access it quickly 🤓\n"
      ]
    },
    {
      "cell_type": "markdown",
      "metadata": {},
      "source": [
        "### How Do I Create Lists?\n",
        "\n",
        "In Python, lists are simply defined using square brackets `[]`:\n",
        "\n",
        "```python \n",
        "friends = [\"anne\", \"mustafa\", \"steven\"]\n",
        "```\n",
        "\n",
        "<br>"
      ]
    },
    {
      "cell_type": "markdown",
      "metadata": {},
      "source": [
        "### Accessing List Elements\n",
        "\n",
        "We can access elements of a list using their index. In Python, indexing starts at 0:\n",
        "```python \n",
        "friends = [\"anne\", \"mustafa\", \"steven\"]\n",
        "print(friends[0])  # Output: anne\n",
        "print(friends[1])  # Output: mustafa\n",
        "print(friends[2])  # Output: steven\n",
        "```\n",
        "\n",
        "☝️ **Important**: Remember that in Python, we always start counting from 0. So if we want to print the first element, we need to use `friends[0]`."
      ]
    },
    {
      "cell_type": "markdown",
      "metadata": {},
      "source": [
        "### Task 1: Create a Shopping List  \n",
        "Create a list with at least five items you want to buy at the supermarket and print the list.  \n",
        "Access the first and third item in your shopping list and print them.  "
      ]
    },
    {
      "cell_type": "code",
      "execution_count": null,
      "metadata": {},
      "outputs": [],
      "source": [
        "# create here your shopping list and print the elements"
      ]
    },
    {
      "cell_type": "markdown",
      "metadata": {},
      "source": [
        "<details>\n",
        "  <summary>Solution</summary>\n",
        "\n",
        "  ```python\n",
        "    shoppinglist = [\"bread\", \"eggs\", \"milk\", \"fruit\"]\n",
        "    print(shoppinglist)  \n",
        "  ```\n",
        "</details>"
      ]
    },
    {
      "cell_type": "markdown",
      "metadata": {},
      "source": [
        "### How to Work with Lists?  \n",
        "\n",
        "Even after creating a list, you can still modify it in Python. For example, you can add new friends 😺 or remove old ones 😿.  \n",
        "\n",
        "New elements can be added using **.append()**. They are always appended to the end of the list. For example:  \n",
        "```python\n",
        "friends = [\"anne\", \"mustafa\", \"steven\"]\n",
        "friends.append(\"iri\")\n",
        "print(friends)\n",
        "# [\"anne\", \"mustafa\", \"steven\", \"iri\"]\n",
        "```\n",
        "<br>\n",
        "\n",
        "Elements that are already in the list can be removed using **.remove()**. You need to specify the element to be deleted:\n",
        "```python \n",
        "friends = [\"anne\", \"mustafa\", \"steven\"]\n",
        "friends.remove(\"mustafa\")\n",
        "print(friends)\n",
        "# [\"anne\", \"steven\"]\n",
        "```\n",
        "<br>\n",
        "\n",
        "Additionally, you can get the length of a list with:\n",
        "```python \n",
        "print(len(my_list))\n",
        "```\n",
        "\n",
        "<br>"
      ]
    },
    {
      "cell_type": "markdown",
      "metadata": {},
      "source": [
        "### Task 2: Adjust Your Shopping List  \n",
        "Use your shopping list with at least five items you want to buy at the supermarket (you can simply copy the code from above). Now, remove two items (you can choose which ones) and add three new items.  \n",
        "Then, print the length of the list.  "
      ]
    },
    {
      "cell_type": "code",
      "execution_count": null,
      "metadata": {},
      "outputs": [],
      "source": [
        "# arbeite hier mit der liste"
      ]
    },
    {
      "cell_type": "markdown",
      "metadata": {},
      "source": [
        "<details>  \n",
        "  <summary>Solution</summary>  \n",
        "\n",
        "  ```python\n",
        "    shopping_list = [\"bread\", \"eggs\", \"milk\", \"fruit\"]\n",
        "    print(shopping_list)\n",
        "    shopping_list.remove(\"bread\")\n",
        "    shopping_list.remove(\"fruit\")\n",
        "    shopping_list.append(\"apple juice\")\n",
        "    shopping_list.append(\"pasta\")\n",
        "    shopping_list.append(\"apples\")\n",
        "    print(shopping_list)\n",
        "    print(len(shopping_list))\n",
        "\n",
        "    # ['bread', 'eggs', 'milk', 'fruit']\n",
        "    # ['eggs', 'milk', 'apple juice', 'pasta', 'apples']\n",
        "    # 5\n",
        "  ```\n",
        "</details>"
      ]
    },
    {
      "cell_type": "markdown",
      "metadata": {},
      "source": [
        "Very good 🚀 I think you have understood the topic of lists well. If you have any questions, feel free to reach out to one of our tutors anytime 😄.  \n",
        "\n",
        "In the next section, we will continue with dictionaries.  \n",
        "<br>\n",
        "\n",
        "<br>\n"
      ]
    },
    {
      "cell_type": "markdown",
      "metadata": {},
      "source": [
        "## What are Dictionaries?  \n",
        "With dictionaries in Python, we can easily store large amounts of data, similar to lists. Let's first take a look at what a dictionary is:  \n",
        "\n",
        "A dictionary always consists of one or more **key-value pairs**. In this structure:  \n",
        "* A **value** is always a piece of data 💾 that we want to store, and  \n",
        "* A **key** is a unique identifier 🔑 (like a name or an ID) that allows us to find the corresponding value.  \n",
        "\n",
        "Imagine you want to store the eye colors of your three friends:  \n",
        "* *Anne*: blue eyes,  \n",
        "* *Mustafa*: green eyes, and  \n",
        "* *Steven*: brown eyes  \n",
        "\n",
        "Here, the **key** would be your friend's name (e.g., Anne), and the **value** would be their eye color (e.g., blue).  \n",
        "\n",
        "A dictionary could look like this:  \n",
        "```python\n",
        "my_friends = {\n",
        "    \"Anne\": \"blue\", \n",
        "    \"Mustafa\": \"green\",\n",
        "    \"Steven\": \"brown\"\n",
        "}\n",
        "```\n",
        "One major advantage of dictionaries is that by using the **key** 🔑, we can directly access specific data without needing to remember at which index the information is stored."
      ]
    },
    {
      "cell_type": "markdown",
      "metadata": {},
      "source": [
        "### How to Work with Dictionaries?  \n",
        "\n",
        "#### Creating a Dictionary  \n",
        "To create a dictionary, we use curly braces `{}`. Inside the braces, we list our key-value pairs, separated by commas:  \n",
        "```python\n",
        "my_data = {\n",
        "    \"Name\": \"Alice\", \n",
        "    \"Age\": 25}\n",
        "print(my_data)\n",
        "```"
      ]
    },
    {
      "cell_type": "markdown",
      "metadata": {},
      "source": [
        "### Task 3: Create a Dictionary for Contacts  \n",
        "Create a dictionary in which you store the name and age of three friends. Print the dictionary.  \n"
      ]
    },
    {
      "cell_type": "code",
      "execution_count": 15,
      "metadata": {},
      "outputs": [],
      "source": [
        "# create your dictionary here"
      ]
    },
    {
      "cell_type": "markdown",
      "metadata": {},
      "source": [
        "<details>\n",
        "  <summary>Solution</summary>\n",
        "\n",
        "  ```python\n",
        "    my_friends = {\n",
        "        \"Ahmad\": 25, \n",
        "        \"Max\": 25,\n",
        "        \"Jakob\": 25\n",
        "    }\n",
        "\n",
        "  ```\n",
        "</details>"
      ]
    },
    {
      "cell_type": "markdown",
      "metadata": {},
      "source": [
        "#### Accessing Values\n",
        "To access the values of a dictionary, we use square brackets `[]` and the key of the value we want to retrieve:\n",
        "```python\n",
        "print(my_data[\"Name\"])\n",
        "# Alice\n",
        "print(my_data[\"Age\"])\n",
        "# 25\n",
        "```\n",
        "\n",
        "#### Adding or Modifying Values\n",
        "To modify specific values or add new ones, we use square brackets `[]` and assign a new value with `=`:\n",
        "```python\n",
        "my_data[\"Job\"] = \"Developer\"\n",
        "print(my_data)\n",
        "# {\"Name\": \"Alice\", \"Age\": 25, \"Job\": \"Developer\"}\n",
        "\n",
        "my_data[\"Age\"] = 33\n",
        "print(my_data)\n",
        "# {\"Name\": \"Alice\", \"Age\": 33, \"Job\": \"Developer\"}\n",
        "```"
      ]
    },
    {
      "cell_type": "markdown",
      "metadata": {},
      "source": [
        "### Task 4: Update a Contact  \n",
        "One of your friends has a birthday! Update their age and print the updated dictionary.  "
      ]
    },
    {
      "cell_type": "code",
      "execution_count": 14,
      "metadata": {},
      "outputs": [],
      "source": [
        "# change here the age of one of your friends"
      ]
    },
    {
      "cell_type": "markdown",
      "metadata": {},
      "source": [
        "<details>\n",
        "  <summary>Solution</summary>\n",
        "\n",
        "  ```python\n",
        "    print(my_friends)\n",
        "    my_friends[\"Jakob\"] = 26\n",
        "    print(my_friends)\n",
        "  \n",
        "    # {'Ahmad': 25, 'Max': 25, 'Jakob': 25}\n",
        "    # {'Ahmad': 25, 'Max': 25, 'Jakob': 26}\n",
        "\n",
        "  ```\n",
        "</details>"
      ]
    },
    {
      "cell_type": "markdown",
      "metadata": {},
      "source": [
        "### Task 5: Expand the Participant List  \n",
        "You’ve found a new friend at Eduref 💚 Ask your seat neighbor their name and age, and add them to the dictionary.  "
      ]
    },
    {
      "cell_type": "code",
      "execution_count": 4,
      "metadata": {},
      "outputs": [],
      "source": [
        "# add here a new friend"
      ]
    },
    {
      "cell_type": "markdown",
      "metadata": {},
      "source": [
        "<details>\n",
        "  <summary>Solution</summary>\n",
        "\n",
        "  ```python\n",
        "    print(my_friends)\n",
        "    my_friends[\"Stefan\"]  = 26\n",
        "    print(my_friends)\n",
        "  ```\n",
        "</details>"
      ]
    },
    {
      "cell_type": "markdown",
      "metadata": {},
      "source": [
        "<br> \n",
        "\n",
        "With the `del` command, we can also remove entries from our dictionary. For example:  \n",
        "```python\n",
        "my_data = {\"Name\": \"Alice\", \"Age\": 25}\n",
        "del my_data[\"Age\"]\n",
        "print(my_data)\n",
        "# {\"Name\": \"Alice\"}\n",
        "```\n",
        "\n",
        "<br> \n",
        "\n",
        "In a dictionary, we can also store more complex data types like lists or even other dictionaries:  \n",
        "```python\n",
        "participant_details = {\n",
        "    \"Friends\": [{\"Name\": \"Emilia\", \"Age\": 25}, {\"Name\": \"Bob\", \"Age\": 30}]\n",
        "}\n",
        "```\n",
        "\n",
        "<br>"
      ]
    },
    {
      "cell_type": "markdown",
      "metadata": {},
      "source": [
        "## For-Loops and Lists & Dictionaries  \n",
        "Often, we want to access not just one value from a list or a dictionary, but all values (e.g., to sort them).  \n",
        "\n",
        "For lists, we can easily achieve this with a `for` loop:  \n",
        "```python\n",
        "words = [\"e\", \"d\", \"u\", \"r\", \"e\", \"f\"]\n",
        "\n",
        "for word in words:\n",
        "    print(word)\n",
        " # e\n",
        " # d\n",
        " # u\n",
        " # r\n",
        " # e\n",
        " # f   \n",
        "```"
      ]
    },
    {
      "cell_type": "markdown",
      "metadata": {},
      "source": [
        "\n",
        "For dictionaries, we need the **.keys()**, **.values()**, and **.items()** methods:  \n",
        "```python\n",
        "my_friends = {\n",
        "    \"Anne\": \"blue\", \n",
        "    \"Mustafa\": \"green\",\n",
        "    \"Steven\": \"brown\"\n",
        "}\n",
        "```\n",
        "\n",
        "With **.keys()**, we can iterate over the keys:\n",
        "```python\n",
        "for key in my_friends.keys():\n",
        "    print(key)\n",
        "# Anne\n",
        "# Mustafa\n",
        "# Steven\n",
        "```\n",
        "With **.values()** we can iterate over the values:\n",
        "```python\n",
        "for value in my_friends.values():\n",
        "    print(value)\n",
        "# blue\n",
        "# green\n",
        "# brown\n",
        "```\n",
        "\n",
        "With **.items()**, we can iterate over both keys and values simultaneously:\n",
        "```python\n",
        "for key, value in my_friends.items():\n",
        "    print(key, value)\n",
        "# Anne, blue\n",
        "# Mustafa, green\n",
        "# Steven, brown\n",
        "```"
      ]
    },
    {
      "cell_type": "markdown",
      "metadata": {},
      "source": [
        "### Task 6: Print All Numbers in the Given Order  \n",
        "Below you will find a list with names and ages. Now, loop through this list and print only the ages.  "
      ]
    },
    {
      "cell_type": "code",
      "execution_count": 2,
      "metadata": {},
      "outputs": [],
      "source": [
        "nested_list = [\n",
        "    [\"Alice\", 25],\n",
        "    [\"Juan\", 30],\n",
        "    [\"Chloe\", 22],\n",
        "    [\"Raj\", 28],\n",
        "    [\"Liu Wei\", 35],\n",
        "    [\"Amina\", 27],\n",
        "    [\"Max\", 40]\n",
        "]\n",
        "# Expected output: 25, 30, 22, 28, 35, 27, 40"
      ]
    },
    {
      "cell_type": "markdown",
      "metadata": {},
      "source": [
        "<details>\n",
        "  <summary>Solution</summary>\n",
        "\n",
        "  ```python\n",
        "    for element in nested_list:\n",
        "        print(element[1])\n",
        "  ```\n",
        "</details>"
      ]
    },
    {
      "cell_type": "markdown",
      "metadata": {},
      "source": [
        "### Task 7: Create a List from the Dictionary  \n",
        "Below, you will find the same information as a dictionary. Now, create a list from this dictionary:  "
      ]
    },
    {
      "cell_type": "code",
      "execution_count": 4,
      "metadata": {},
      "outputs": [],
      "source": [
        "friends_dict = {\n",
        "    'Alice': 25,\n",
        "    'Juan': 30,\n",
        "    'Chloe': 22,\n",
        "    'Raj': 28,\n",
        "    'Liu Wei': 35,\n",
        "    'Amina': 27,\n",
        "    'Max': 40\n",
        "}\n",
        "# Expected output:\n",
        "# [[\"Alice\", 25], [\"Juan\", 30], [\"Chloe\", 22], [\"Raj\", 28], [\"Liu Wei\", 35], [\"Amina\", 27], [\"Max\", 40]]"
      ]
    },
    {
      "cell_type": "markdown",
      "metadata": {},
      "source": [
        "<details>\n",
        "  <summary>Solution</summary>\n",
        "\n",
        "  ```python\n",
        "    my_list = []\n",
        "\n",
        "    for key, value in friends_dict.items():\n",
        "        my_list.append([key,value])\n",
        "\n",
        "    print(my_list)\n",
        "  ```\n",
        "</details>"
      ]
    },
    {
      "cell_type": "markdown",
      "metadata": {},
      "source": [
        "## Bonus X: Counting Words  \n",
        "In this task, you will receive the list `[\"Apple\", \"Banana\", \"Apple\", \"Orange\", \"Banana\", \"Apple\"]`. Write a program that loops through this list and counts how often each word appears. Store the results in a dictionary.  \n",
        "\n",
        "Example:  \n",
        "```python\n",
        "words = [\"Apple\", \"Banana\", \"Apple\", \"Orange\", \"Banana\", \"Apple\"]\n",
        "# Expected output: {\"Apple\": 3, \"Banana\": 2, \"Orange\": 1}\n",
        "```"
      ]
    },
    {
      "cell_type": "code",
      "execution_count": 1,
      "metadata": {},
      "outputs": [],
      "source": [
        "# Write your code here to determine how often each word appears in the list and store the result in a dictionary  \n",
        "words = [\"Apple\", \"Banana\", \"Apple\", \"Orange\", \"Banana\", \"Apple\"]  "
      ]
    },
    {
      "cell_type": "markdown",
      "metadata": {},
      "source": [
        "<details>  \n",
        "  <summary>Solution</summary>  \n",
        "\n",
        "```python\n",
        "  words = ['Apple', 'Banana', 'Apple', 'Orange', 'Apple', 'Banana']\n",
        "  word_count = {}\n",
        "  for word in words:\n",
        "      if word in word_count:\n",
        "          word_count[word] += 1\n",
        "      else:\n",
        "          word_count[word] = 1\n",
        "  word_count\n",
        "```\n",
        "</details>"
      ]
    },
    {
      "cell_type": "markdown",
      "metadata": {},
      "source": [
        "<!-- Lösung:\n",
        "```python\n",
        "words = ['Apfel', 'Banane', 'Apfel', 'Orange', 'Apfel', 'Banane']\n",
        "word_count = {}\n",
        "for word in words:\n",
        "    if word in word_count:\n",
        "        word_count[word] += 1\n",
        "    else:\n",
        "        word_count[word] = 1\n",
        "\n",
        "print(word_count)\n",
        "``` -->"
      ]
    }
  ],
  "metadata": {
    "kernelspec": {
      "display_name": "EDUREF",
      "language": "python",
      "name": "python3"
    },
    "language_info": {
      "codemirror_mode": {
        "name": "ipython",
        "version": 3
      },
      "file_extension": ".py",
      "mimetype": "text/x-python",
      "name": "python",
      "nbconvert_exporter": "python",
      "pygments_lexer": "ipython3",
      "version": "3.13.0"
    }
  },
  "nbformat": 4,
  "nbformat_minor": 2
}
