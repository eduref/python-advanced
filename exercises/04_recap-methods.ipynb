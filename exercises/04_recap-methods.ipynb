{
 "cells": [
  {
   "cell_type": "markdown",
   "id": "0f67e555",
   "metadata": {},
   "source": [
    "# Methods / Functions Review\n",
    "\n",
    "Methods are special functions that belong to objects. They can be applied to objects like strings, lists, or custom-defined classes.\n",
    "\n",
    "Components of a method:  \n",
    "    - **Object**: The object on which the method is called  \n",
    "    - **Method name**: The name of the method after the dot  \n",
    "    - **Parameters**: Optional values that the method needs for its work  \n",
    "    - **Return value**: The result of the method execution  \n",
    "\n",
    "Example:\n",
    "```python\n",
    "text = \"Hello World\"\n",
    "uppercase = text.upper()\n",
    "```"
   ]
  },
  {
   "cell_type": "markdown",
   "id": "4d84bacb",
   "metadata": {},
   "source": [
    "## Exercise 1\n",
    "\n",
    "Create a string and apply three different string methods to it (e.g., upper(), lower(), replace())."
   ]
  },
  {
   "cell_type": "code",
   "execution_count": null,
   "id": "3f872179",
   "metadata": {},
   "outputs": [],
   "source": [
    "# Write your code below this line\n",
    "text = \"Hello Python Course!\"\n",
    "\n",
    "# Uppercase\n",
    "print(text.upper())\n",
    "\n",
    "# Lowercase\n",
    "print(text.lower())\n",
    "\n",
    "# Replace 'Python' with 'Java'\n",
    "print(text.replace('Python', 'Java'))\n",
    "\n",
    "# Bonus: Show the length of the string\n",
    "print(len(text))"
   ]
  },
  {
   "cell_type": "markdown",
   "id": "d49a631f",
   "metadata": {},
   "source": [
    "## Exercise 2\n",
    "\n",
    "Create a list and apply different list methods (append(), pop(), sort()).\n",
    "Print the list after each operation."
   ]
  },
  {
   "cell_type": "code",
   "execution_count": null,
   "id": "7ef2e023",
   "metadata": {},
   "outputs": [],
   "source": [
    "# Write your code below this line\n",
    "numbers = [5, 2, 8, 1, 9]\n",
    "print(\"Original list:\", numbers)\n",
    "\n",
    "# Add a number\n",
    "numbers.append(6)\n",
    "print(\"After append(6):\", numbers)\n",
    "\n",
    "# Remove the last element\n",
    "removed = numbers.pop()\n",
    "print(f\"Removed element: {removed}\")\n",
    "print(\"After pop():\", numbers)\n",
    "\n",
    "# Sort the list\n",
    "numbers.sort()\n",
    "print(\"After sort():\", numbers)\n",
    "\n",
    "# Reverse the list\n",
    "numbers.reverse()\n",
    "print(\"After reverse():\", numbers)"
   ]
  },
  {
   "cell_type": "markdown",
   "id": "14c0b9e8",
   "metadata": {},
   "source": [
    "## Exercise 3\n",
    "\n",
    "Create a dictionary and use at least three different dictionary methods (keys(), values(), items()).\n",
    "Print the results."
   ]
  },
  {
   "cell_type": "code",
   "execution_count": null,
   "id": "44962d81",
   "metadata": {
    "lines_to_next_cell": 1
   },
   "outputs": [],
   "source": [
    "person = {\n",
    "    \"name\": \"Max\",\n",
    "    \"age\": 25,\n",
    "    \"city\": \"Berlin\"\n",
    "}\n",
    "\n",
    "# Write your code below this line\n",
    "# Show all keys\n",
    "print(\"Keys:\", list(person.keys()))\n",
    "\n",
    "# Show all values\n",
    "print(\"Values:\", list(person.values()))\n",
    "\n",
    "# Show all key-value pairs\n",
    "print(\"Pairs:\", list(person.items()))\n",
    "\n",
    "# Add a new element\n",
    "person.update({\"job\": \"Developer\"})\n",
    "print(\"After Update:\", person)"
   ]
  },
  {
   "cell_type": "markdown",
   "id": "139b3b28",
   "metadata": {},
   "source": [
    "## Exercise 4\n",
    "\n",
    "Create a function `greeting` that takes a name as a parameter and returns a personal greeting.\n",
    "The function should also have an optional parameter `time_of_day` that determines whether \"Good Morning\", \"Good Day\", or \"Good Evening\" is output.\n",
    "\n",
    "Example:\n",
    "- `greeting(\"Anna\")` → \"Hello Anna!\"\n",
    "- `greeting(\"Peter\", \"morning\")` → \"Good Morning Peter!\""
   ]
  },
  {
   "cell_type": "code",
   "execution_count": null,
   "id": "a3f167df",
   "metadata": {
    "lines_to_next_cell": 1
   },
   "outputs": [],
   "source": [
    "# Write your code below this line\n",
    "def greeting(name, time_of_day=None):\n",
    "    if time_of_day == \"morning\":\n",
    "        return f\"Good Morning {name}!\"\n",
    "    elif time_of_day == \"evening\":\n",
    "        return f\"Good Evening {name}!\"\n",
    "    elif time_of_day == \"day\":\n",
    "        return f\"Good Day {name}!\"\n",
    "    else:\n",
    "        return f\"Hello {name}!\"\n",
    "\n",
    "# Test the function\n",
    "print(greeting(\"Anna\"))\n",
    "print(greeting(\"Peter\", \"morning\"))\n",
    "print(greeting(\"Sarah\", \"evening\"))\n",
    "print(greeting(\"Tom\", \"day\"))"
   ]
  },
  {
   "cell_type": "markdown",
   "id": "ecf0990d",
   "metadata": {},
   "source": [
    "## Exercise 5\n",
    "\n",
    "Create a function `create_shopping_list` that takes a list of shopping items as a parameter\n",
    "and returns them as a formatted shopping list.\n",
    "\n",
    "Example:\n",
    "```python\n",
    "create_shopping_list([\"Apples\", \"Bread\", \"Milk\"])\n",
    "```\n",
    "Output:\n",
    "```\n",
    "Shopping List:\n",
    "1. Apples\n",
    "2. Bread\n",
    "3. Milk\n",
    "```"
   ]
  },
  {
   "cell_type": "code",
   "execution_count": null,
   "id": "59919fd7",
   "metadata": {},
   "outputs": [],
   "source": [
    "# Write your code below this line\n",
    "def create_shopping_list(items):\n",
    "    output = \"Shopping List:\"\n",
    "    for i, item in enumerate(items, 1):\n",
    "        output += f\"\\n{i}. {item}\"\n",
    "    return output\n",
    "\n",
    "# Test the function\n",
    "print(create_shopping_list([\"Apples\", \"Bread\", \"Milk\"]))\n",
    "print(\"\\nAnother list:\")\n",
    "print(create_shopping_list([\"Water\", \"Juice\"]))"
   ]
  },
  {
   "cell_type": "markdown",
   "id": "875fa706",
   "metadata": {},
   "source": [
    "## Bonus Exercise\n",
    "\n",
    "Create a simple number guessing game with two functions:\n",
    "- `generate_number()`: Generates a random number between 1 and 10\n",
    "- `guess_number(secret_number, guess)`: Checks the guess attempt and returns a hint\n",
    "\n",
    "Example usage:\n",
    "```python\n",
    "number = generate_number()\n",
    "print(guess_number(number, 5))  # \"Too low!\" or \"Too high!\" or \"Correct!\"\n",
    "```"
   ]
  },
  {
   "cell_type": "code",
   "execution_count": null,
   "id": "ba63063c",
   "metadata": {},
   "outputs": [],
   "source": [
    "import random\n",
    "# Write your code below this line\n",
    "\n",
    "def generate_number():\n",
    "    return random.randint(1, 10)\n",
    "\n",
    "def guess_number(secret_number, guess):\n",
    "    if guess < secret_number:\n",
    "        return \"Too low!\"\n",
    "    elif guess > secret_number:\n",
    "        return \"Too high!\"\n",
    "    else:\n",
    "        return \"Correct!\"\n",
    "\n",
    "# Test the functions\n",
    "secret_number = generate_number()\n",
    "print(\"Game started! Guess a number between 1 and 10\")\n",
    "\n",
    "# Example for three guesses\n",
    "print(\"Try with 5:\", guess_number(secret_number, 5))\n",
    "print(\"Try with 8:\", guess_number(secret_number, 8))\n",
    "print(\"The secret number was:\", secret_number) "
   ]
  }
 ],
 "metadata": {
  "jupytext": {
   "cell_metadata_filter": "-all",
   "main_language": "python",
   "notebook_metadata_filter": "-all"
  }
 },
 "nbformat": 4,
 "nbformat_minor": 5
}
