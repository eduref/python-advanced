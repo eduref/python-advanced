{
 "cells": [
  {
   "cell_type": "markdown",
   "id": "07ddbe4e",
   "metadata": {},
   "source": [
    "# Introduction to APIs - Day 1\n",
    "\n",
    "## What is an API? - A Simple Explanation 🎯\n",
    "\n",
    "Think of an API like a waiter in a restaurant:\n",
    "- You (your program) are the guest\n",
    "- The kitchen (server) prepares the data\n",
    "- The waiter (API) takes your order and brings you the food (data)\n",
    "\n",
    "```\n",
    "You (Client) 🧑 --> 🤵 Waiter (API) --> 👩‍🍳 Kitchen (Server)\n",
    "         <-- Food (Data) <--\n",
    "```\n",
    "\n",
    "### Real-world Example:\n",
    "When you open a weather app on your phone:\n",
    "1. The app asks the weather API: \"What's the weather in Berlin?\"\n",
    "2. The API gets the information from the weather server\n",
    "3. The API returns the data to your app\n",
    "4. The app shows you the weather"
   ]
  },
  {
   "cell_type": "code",
   "execution_count": null,
   "id": "58095671",
   "metadata": {},
   "outputs": [],
   "source": [
    "# First, we need to import the requests library\n",
    "# It helps us communicate with APIs\n",
    "import requests\n",
    "\n",
    "# Let's start with a very simple API\n",
    "# This API gives us random facts about numbers\n",
    "response = requests.get('http://numbersapi.com/random/trivia')\n",
    "print(\"Here's a random fact:\")\n",
    "print(response.text)"
   ]
  },
  {
   "cell_type": "markdown",
   "id": "570ebe5c",
   "metadata": {},
   "source": [
    "### What Just Happened? 🤔\n",
    "1. `requests.get()` sends a request to the API (like sending a text message)\n",
    "2. The API responds with text (like a reply message)\n",
    "3. We store the response in `response`\n",
    "4. With `response.text` we read the text from the response\n",
    "\n",
    "## 🎯 Exercise 1: Your First API Request\n",
    "Now it's your turn! Call the Cat Facts API (https://catfact.ninja/fact).\n",
    "This API sends you random facts about cats.\n",
    "\n",
    "💡 Tip: The code is very similar to the example above. Just the URL is different."
   ]
  },
  {
   "cell_type": "code",
   "execution_count": null,
   "id": "9a7e9a67",
   "metadata": {},
   "outputs": [],
   "source": [
    "# Write your code below this line\n",
    "response = requests.get('https://catfact.ninja/fact')\n",
    "print(response.text)"
   ]
  },
  {
   "cell_type": "markdown",
   "id": "7b5ccd31",
   "metadata": {},
   "source": [
    "## What is JSON? 📋\n",
    "\n",
    "The response from the Cat Facts API looks a bit strange, right? That's because it's in JSON format.\n",
    "\n",
    "JSON is like a dictionary:\n",
    "- It has keys and values\n",
    "- Real-world example: A phone book\n",
    "  - Key = Name\n",
    "  - Value = Phone number\n",
    "\n",
    "```python\n",
    "# Python Dictionary        # JSON\n",
    "{\n",
    "  \"name\": \"Max\",          # Same structure!\n",
    "  \"age\": 25\n",
    "}\n",
    "```"
   ]
  },
  {
   "cell_type": "code",
   "execution_count": null,
   "id": "2b118d40",
   "metadata": {},
   "outputs": [],
   "source": [
    "# Let's convert the JSON response to a Python dictionary\n",
    "response = requests.get('https://catfact.ninja/fact')\n",
    "data = response.json()  # Converts JSON to dictionary\n",
    "\n",
    "print(\"The complete dataset:\")\n",
    "print(data)\n",
    "\n",
    "print(\"\\nJust the cat fact:\")\n",
    "print(data['fact'])  # We only access the 'fact' key"
   ]
  },
  {
   "cell_type": "markdown",
   "id": "d2341446",
   "metadata": {},
   "source": [
    "## 🎯 Exercise 2: Understanding JSON\n",
    "\n",
    "Call the Nationalize API (https://api.nationalize.io/?name=michael)\n",
    "and find out which country the name likely comes from.\n",
    "\n",
    "💡 Tips:\n",
    "1. Use `response.json()` to convert the response to a dictionary\n",
    "2. Look at the structure with `print(data)`\n",
    "3. The most likely country is in the first element of the 'country' list"
   ]
  },
  {
   "cell_type": "code",
   "execution_count": null,
   "id": "0f5d932a",
   "metadata": {
    "lines_to_next_cell": 1
   },
   "outputs": [],
   "source": [
    "# Write your code below this line\n",
    "response = requests.get('https://api.nationalize.io/?name=michael')\n",
    "data = response.json()\n",
    "print(data)\n",
    "\n",
    "print(\"The most likely country is:\", data['country'][0]['country_id'])"
   ]
  },
  {
   "cell_type": "markdown",
   "id": "dc513084",
   "metadata": {},
   "source": [
    "## 🌟 Bonus Exercise: Name Analysis\n",
    "\n",
    "Create a function `analyze_name(name)` that:\n",
    "1. Takes a name as a parameter\n",
    "2. Calls the API\n",
    "3. Outputs the top 3 most likely countries\n",
    "\n",
    "💡 Extra Tip: Use a for loop for the top 3 countries!"
   ]
  },
  {
   "cell_type": "code",
   "execution_count": null,
   "id": "9d78a8bc",
   "metadata": {},
   "outputs": [],
   "source": [
    "# Write your code below this line\n",
    "def analyze_name(name):\n",
    "    response = requests.get(f'https://api.nationalize.io/?name={name}')\n",
    "    data = response.json()\n",
    "    \n",
    "    print(f\"Top 3 countries for {name}:\")\n",
    "    for country in data['country'][:3]:\n",
    "        print(country['country_id'])\n",
    "        \n",
    "# Test your function\n",
    "analyze_name('michael')"
   ]
  },
  {
   "cell_type": "markdown",
   "id": "cc535121",
   "metadata": {},
   "source": [
    "## 🎯 Day 1 Summary\n",
    "\n",
    "What have we learned?\n",
    "1. APIs are like waiters that serve us data\n",
    "2. We can request data from APIs using `requests.get()`\n",
    "3. APIs often respond in JSON format\n",
    "4. We can convert JSON to a Python dictionary using `.json()`\n",
    "\n",
    "### 🚀 Tomorrow:\n",
    "- We'll build a real weather app!\n",
    "- Work with a professional weather API\n",
    "- Learn more about API parameters\n",
    "\n",
    "### ❓ Common Errors and Solutions:\n",
    "- `ModuleNotFoundError`: Requests not installed → `pip install requests`\n",
    "- `ConnectionError`: No internet connection → Check connection\n",
    "- `KeyError`: Wrong key → Check response structure "
   ]
  }
 ],
 "metadata": {
  "jupytext": {
   "cell_metadata_filter": "-all",
   "main_language": "python",
   "notebook_metadata_filter": "-all"
  }
 },
 "nbformat": 4,
 "nbformat_minor": 5
}
