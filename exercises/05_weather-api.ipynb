{
 "cells": [
  {
   "cell_type": "markdown",
   "id": "cc5eb0d3",
   "metadata": {},
   "source": [
    "# 🌤️ Weather App Development - Day 2"
   ]
  },
  {
   "cell_type": "markdown",
   "id": "485ee6be",
   "metadata": {},
   "source": [
    "## What will we build today?\n",
    "Our own weather app that tells us:\n",
    "- What's the current temperature?\n",
    "- Is it raining?\n",
    "- Comparison between different cities\n",
    "\n",
    "## The Open-Meteo API 🌍\n",
    "We'll use the Open-Meteo API which provides us with weather data.\n",
    "\n",
    "### Here's what an API request looks like:\n",
    "https://api.open-meteo.com/v1/forecast?latitude=52.52&longitude=13.41&current=temperature_2m\n",
    "```\n",
    "https://api.open-meteo.com/v1/forecast?\n",
    "  latitude=52.52&           <- Latitude (Berlin)\n",
    "  longitude=13.41&          <- Longitude (Berlin)\n",
    "  current=temperature_2m    <- What do we want to know?\n",
    "```\n",
    "\n",
    "The part after the question mark `?` are the parameters. Here we can specify data like latitude, longitude, and desired weather data.\n",
    "\n",
    "### In Python it looks like this:"
   ]
  },
  {
   "cell_type": "code",
   "execution_count": null,
   "id": "fa6200ec",
   "metadata": {
    "lines_to_next_cell": 1
   },
   "outputs": [],
   "source": [
    "import requests\n",
    "\n",
    "# Store parameters for Berlin in params dictionary\n",
    "params = {\n",
    "    'latitude': 52.52,\n",
    "    'longitude': 13.41,\n",
    "    'current': 'temperature_2m'\n",
    "}\n",
    "\n",
    "# Send request to the API with our parameters\n",
    "response = requests.get('https://api.open-meteo.com/v1/forecast', params=params)\n",
    "\n",
    "print(\"JSON API Response:\")\n",
    "print(response.json())"
   ]
  },
  {
   "cell_type": "markdown",
   "id": "9e166291",
   "metadata": {},
   "source": [
    "## 🎯 Exercise 1: First Weather Query\n",
    "\n",
    "Let's write a function that retrieves the weather for a location and returns it as JSON!\n",
    "\n",
    "💡 Tips:\n",
    "1. Use the parameters `latitude` and `longitude` for the location\n",
    "2. Add `current=temperature_2m,rain` for temperature and rain\n",
    "3. Use `requests.get(url, params=...)` for clean code"
   ]
  },
  {
   "cell_type": "code",
   "execution_count": null,
   "id": "900e0385",
   "metadata": {
    "lines_to_next_cell": 1
   },
   "outputs": [],
   "source": [
    "def get_weather(latitude, longitude):\n",
    "    # Write your code below this line\n",
    "    params = {\n",
    "        'latitude': latitude,\n",
    "        'longitude': longitude,\n",
    "        'current': 'temperature_2m,rain'\n",
    "    }\n",
    "    \n",
    "    response = requests.get('https://api.open-meteo.com/v1/forecast', params=params)\n",
    "    return response.json()\n",
    "\n",
    "# Test for Berlin\n",
    "berlin_weather = get_weather(52.52, 13.41)\n",
    "print(\"Weather data for Berlin:\")\n",
    "print(berlin_weather)"
   ]
  },
  {
   "cell_type": "markdown",
   "id": "80beaa8d",
   "metadata": {},
   "source": [
    "## 🎯 Exercise 2: User-Friendly Output\n",
    "\n",
    "The raw weather data isn't very readable. Let's create a nice output!\n",
    "\n",
    "💡 Tips:\n",
    "1. Create a new function `display_weather`\n",
    "2. Access the important values in the dictionary\n",
    "3. Format the output with f-strings"
   ]
  },
  {
   "cell_type": "code",
   "execution_count": null,
   "id": "a51954a4",
   "metadata": {},
   "outputs": [],
   "source": [
    "def display_weather(weather_data):\n",
    "    # Write your code below this line\n",
    "    current = weather_data['current']\n",
    "    print(f\"📍 Position: {weather_data['latitude']}°N, {weather_data['longitude']}°E\")\n",
    "    print(f\"🌡️ Temperature: {current['temperature_2m']}°C\")\n",
    "    print(f\"🌧️ Precipitation: {current['rain']} mm\")\n",
    "\n",
    "# Test\n",
    "berlin_weather = get_weather(52.52, 13.41)\n",
    "display_weather(berlin_weather)"
   ]
  },
  {
   "cell_type": "markdown",
   "id": "eb68bb1d",
   "metadata": {},
   "source": [
    "## 🎯 Exercise 3: City Management\n",
    "\n",
    "Nobody wants to remember coordinates! Let's create a dictionary with cities.\n",
    "\n",
    "💡 Tip: cities is a dictionary with city names as keys and coordinates as values\n",
    "\n",
    "Now read the city name from the user in the function `get_city_weather` and display the weather."
   ]
  },
  {
   "cell_type": "code",
   "execution_count": null,
   "id": "15a107b4",
   "metadata": {
    "lines_to_next_cell": 1
   },
   "outputs": [],
   "source": [
    "# Here are some German cities with their coordinates\n",
    "cities = {\n",
    "    'berlin': {'lat': 52.52, 'lon': 13.41},\n",
    "    'hamburg': {'lat': 53.55, 'lon': 9.99},\n",
    "    'munich': {'lat': 48.14, 'lon': 11.58},\n",
    "    'cologne': {'lat': 50.94, 'lon': 6.96},\n",
    "    'frankfurt': {'lat': 50.11, 'lon': 8.68}\n",
    "}\n",
    "\n",
    "def get_city_weather():\n",
    "    # Write your code below this line\n",
    "    print(\"📍 Available cities:\", ', '.join(cities.keys()))\n",
    "    \n",
    "    while True:\n",
    "        city = input(\"\\nEnter a city (or 'exit' to quit): \").lower()\n",
    "        \n",
    "        if city == 'exit':\n",
    "            print(\"Goodbye! 👋\")\n",
    "            break\n",
    "            \n",
    "        if city in cities:\n",
    "            coords = cities[city]\n",
    "            weather_data = get_weather(coords['lat'], coords['lon'])\n",
    "            print(f\"\\n🌤️ Weather in {city.title()}:\")\n",
    "            display_weather(weather_data)\n",
    "        else:\n",
    "            print(f\"❌ City '{city}' not found!\")\n",
    "\n",
    "# Start the program\n",
    "get_city_weather()"
   ]
  },
  {
   "cell_type": "markdown",
   "id": "e5f5aeda",
   "metadata": {},
   "source": [
    "## 🌟 Bonus Exercise 1: City Comparison\n",
    "\n",
    "Create a function that compares the weather of multiple cities and sorts them by temperature.\n",
    "\n",
    "💡 Tips:\n",
    "1. Collect temperatures for all cities\n",
    "2. Sort them by temperature\n",
    "3. Use nice formatting"
   ]
  },
  {
   "cell_type": "code",
   "execution_count": null,
   "id": "824e1be6",
   "metadata": {},
   "outputs": [],
   "source": [
    "def compare_cities(city_list):\n",
    "    # Write your code below this line\n",
    "    weather_data = []\n",
    "    \n",
    "    print(\"🌡️ Temperature Comparison:\")\n",
    "    print(\"-\" * 30)\n",
    "    \n",
    "    for city in city_list:\n",
    "        coords = cities[city]\n",
    "        weather = get_weather(coords['lat'], coords['lon'])\n",
    "        weather_data.append((city, weather['current']['temperature_2m']))\n",
    "        \n",
    "    weather_data.sort(key=lambda x: x[1], reverse=True)\n",
    "    \n",
    "    for city, temp in weather_data:\n",
    "        print(f\"{city.title()}: {temp}°C\")\n",
    "\n",
    "# Test\n",
    "compare_cities(['berlin', 'hamburg', 'munich'])"
   ]
  },
  {
   "cell_type": "markdown",
   "id": "70ced816",
   "metadata": {},
   "source": [
    "## 🎯 Summary\n",
    "\n",
    "What have we learned?\n",
    "1. How to use a real weather API\n",
    "2. How to use API parameters\n",
    "\n",
    "### 🚀 Further Ideas:\n",
    "- Weather forecast for multiple days (see API documentation at https://open-meteo.com)\n",
    "- Additional weather data (wind, humidity)\n",
    "- Add your own city\n",
    "\n",
    "### ❓ Common Errors:\n",
    "- KeyError → Check the API documentation\n",
    "- ConnectionError → Check your internet connection\n",
    "- ValueError → Check the coordinates\n",
    "\n",
    "🎉 Well done! You've built your first weather app! "
   ]
  }
 ],
 "metadata": {
  "jupytext": {
   "cell_metadata_filter": "-all",
   "main_language": "python",
   "notebook_metadata_filter": "-all"
  }
 },
 "nbformat": 4,
 "nbformat_minor": 5
}
