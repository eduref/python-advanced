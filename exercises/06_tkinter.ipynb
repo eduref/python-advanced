{
 "cells": [
  {
   "cell_type": "markdown",
   "id": "08201fa7",
   "metadata": {},
   "source": [
    "# TKinter\n",
    "\n",
    "So far, you've only used the console (print()) and the input window (input()).\n",
    "But real applications have many more possibilities for their user interface!\n",
    "\n",
    "First, we need to import the tkinter library and the themed tkinter widgets (ttk):\n",
    "(You only need to run this code once when you open the notebook)"
   ]
  },
  {
   "cell_type": "code",
   "execution_count": null,
   "id": "1a07570c",
   "metadata": {},
   "outputs": [],
   "source": [
    "import tkinter as tk\n",
    "from tkinter import ttk"
   ]
  },
  {
   "cell_type": "markdown",
   "id": "42d26695",
   "metadata": {},
   "source": [
    "## Using tkinter\n",
    "\n",
    "To create your first window with tk, you need these two commands:\n",
    "\n",
    "1. `root_window = tk.Tk()` creates a new window\n",
    "2. `root_window.mainloop()` opens the window\n",
    "\n",
    "Any code after .mainloop() will only be executed after the window is closed!\n",
    "\n",
    "So if you want to change the window title with `root_window.title(\"New Title\")`, you must do it before calling mainloop!"
   ]
  },
  {
   "cell_type": "code",
   "execution_count": null,
   "id": "7c1bb0fd",
   "metadata": {},
   "outputs": [],
   "source": [
    "root_window = tk.Tk()\n",
    "root_window.title(\"Your first window\")\n",
    "root_window.mainloop()\n",
    "# This code will only be executed after the window is closed!\n",
    "print(\"Window closed\")"
   ]
  },
  {
   "cell_type": "markdown",
   "id": "03ab752e",
   "metadata": {},
   "source": [
    "## Displaying Text\n",
    "\n",
    "All content in windows is stored as widgets. You must first define all widgets, then pack all widgets, and then run mainloop.\n",
    "\n",
    "For example:\n",
    "```py\n",
    "root_window = tk.Tk()\n",
    "# 1. Define Label widget (displays text)\n",
    "message = ttk.Label(root_window, text=\"Hello, World!\")\n",
    "# 2. Pack widget (add to window)\n",
    "message.pack()\n",
    "# 3. Open window\n",
    "root_window.mainloop()\n",
    "```\n",
    "**Remember to always call mainloop() last and pack all widgets before that!**\n",
    "\n",
    "**Note**: The Label is t**t**k.Label(), not tk.Label()"
   ]
  },
  {
   "cell_type": "markdown",
   "id": "011063a3",
   "metadata": {},
   "source": [
    "## 🎯 Exercise 1\n",
    "\n",
    "1. Create a new window.\n",
    "2. Set the window title to \"Exercise 1\"\n",
    "3. Add two labels: \"Good evening!\" and \"It is (current date)\", for example \"It is Monday, January 27\". Remember to pack them with .pack()!\n",
    "4. Open the window"
   ]
  },
  {
   "cell_type": "code",
   "execution_count": null,
   "id": "78ee5a44",
   "metadata": {
    "lines_to_next_cell": 1
   },
   "outputs": [],
   "source": [
    "# Write your code below this line\n",
    "# 1. Create new window\n",
    "root_window = tk.Tk()\n",
    "# 2. Change title\n",
    "root_window.title(\"Exercise 1\")\n",
    "# 3. Define Label widget (displays text) and pack\n",
    "message = ttk.Label(root_window, text=\"Good evening!\")\n",
    "message2 = ttk.Label(root_window, text=\"It is Monday, January 27!\")\n",
    "message.pack()\n",
    "message2.pack()\n",
    "# 4. Open window\n",
    "root_window.mainloop()"
   ]
  },
  {
   "cell_type": "markdown",
   "id": "ee218e4b",
   "metadata": {},
   "source": [
    "## Excursus: Functions as Arguments\n",
    "\n",
    "So far, we've written functions that take data as arguments.\n",
    "For example, the following function takes two numbers:\n",
    "```py\n",
    "def average(a, b):\n",
    "    return (a + b) / 2\n",
    "```\n",
    "But sometimes we want to write functions that use other functions.\n",
    "For example, the following function executes something twice:\n",
    "```py\n",
    "def do_twice(other_function):\n",
    "    other_function()\n",
    "    other_function()\n",
    "```\n",
    "As you can see, the parameter other_function is not data, but another function.\n",
    "This is how we can use this function:\n",
    "```py\n",
    "def print_hello():\n",
    "    print(\"Hello\")\n",
    "\n",
    "do_twice(print_hello)\n",
    "# This prints: Hello Hello\n",
    "```\n",
    "**print_hello has no parentheses () as parameters**, because we want to pass the function itself to do_twice, not its return value (it doesn't return anything)."
   ]
  },
  {
   "cell_type": "markdown",
   "id": "ce7b6f99",
   "metadata": {},
   "source": [
    "## 🎯 Exercise 2\n",
    "\n",
    "1. Write a function called echo(). It should ask the user for text and then output this text to the console.\n",
    "2. Write a function called do_n_times(f, n). It should call the function f() not twice, but n times.\n",
    "3. Use do_n_times with echo: Call the echo function 4 times."
   ]
  },
  {
   "cell_type": "code",
   "execution_count": null,
   "id": "04be953d",
   "metadata": {},
   "outputs": [],
   "source": [
    "# Write your code below this line\n",
    "def echo():\n",
    "    print(input())\n",
    "\n",
    "def do_n_times(f, n):\n",
    "    for _ in range(n):\n",
    "        f()\n",
    "\n",
    "do_n_times(echo, 4)"
   ]
  },
  {
   "cell_type": "markdown",
   "id": "c31185a9",
   "metadata": {},
   "source": [
    "## Using our New Skills\n",
    "\n",
    "Now that we can pass a function as an argument to another function, we can start with buttons:\n",
    "A button is a box that calls a function when clicked.\n",
    "For example, the following button prints \"Hello World\" when you click it:\n",
    "```py\n",
    "root_window = tk.Tk()\n",
    "def hello_world(): # This function is called\n",
    "    print(\"Hello World\")\n",
    "button = ttk.Button(root_window, text=\"Print hello world\", command=hello_world)\n",
    "button.pack()\n",
    "root_window.mainloop()\n",
    "```"
   ]
  },
  {
   "cell_type": "markdown",
   "id": "64c52657",
   "metadata": {},
   "source": [
    "## 🎯 Exercise 3\n",
    "\n",
    "1. Create a new root window\n",
    "2. Add a \"Double\" button. When clicked, it should ask the user for a number. Then it should double the number and output it to the console.\n",
    "3. Pack the button\n",
    "4. Start the window with root_window.mainloop(). Try out your button!"
   ]
  },
  {
   "cell_type": "code",
   "execution_count": null,
   "id": "fcb06431",
   "metadata": {},
   "outputs": [],
   "source": [
    "# Write your code below this line\n",
    "root_window = tk.Tk()\n",
    "def double():\n",
    "    num = int(input())\n",
    "    print(num * 2)\n",
    "button = ttk.Button(root_window, text=\"Double!\", command=double)\n",
    "button.pack()\n",
    "root_window.mainloop()"
   ]
  },
  {
   "cell_type": "markdown",
   "id": "071ffb90",
   "metadata": {},
   "source": [
    "## 🎯 Exercise 4\n",
    "\n",
    "1. Create a new root window. Set the title to \"Calculator\"\n",
    "2. Add an \"Add two numbers\" button. When clicked, it should ask the user for two numbers, add them, and output the result to the console.\n",
    "3. Pack the button and start the window\n",
    "4. (If you have time), repeat (2) for subtraction, multiplication, division, and anything else you can think of. Remember to write all code above root_window.mainloop()"
   ]
  },
  {
   "cell_type": "code",
   "execution_count": null,
   "id": "a361a813",
   "metadata": {},
   "outputs": [],
   "source": [
    "# Write your code below this line\n",
    "root_window = tk.Tk()\n",
    "root_window.title(\"Calculator\")\n",
    "def add():\n",
    "    a = int(input())\n",
    "    b = int(input())\n",
    "    print(a+b)\n",
    "def multiply():\n",
    "    a = int(input())\n",
    "    b = int(input())\n",
    "    print(a*b)\n",
    "button = ttk.Button(root_window, text=\"Add two numbers!\", command=add)\n",
    "button.pack()\n",
    "button2 = ttk.Button(root_window, text=\"Multiply two numbers!\", command=multiply)\n",
    "button2.pack()\n",
    "root_window.mainloop()"
   ]
  },
  {
   "cell_type": "markdown",
   "id": "01f5cb18",
   "metadata": {},
   "source": [
    "## Global Variables\n",
    "\n",
    "Sometimes a function needs to use a variable outside of it.\n",
    "These variables are called \"global variables\".\n",
    "To use them, write `global variable_name`, as in this example:\n",
    "```py\n",
    "sum = 0\n",
    "def add_to_sum(x):\n",
    "    global sum\n",
    "    sum += x\n",
    "add_to_sum(10)\n",
    "print(sum)\n",
    "```\n",
    "The function adds the parameter x to the global sum."
   ]
  },
  {
   "cell_type": "markdown",
   "id": "c0102bf8",
   "metadata": {},
   "source": [
    "## 🎯 Exercise 5\n",
    "\n",
    "1. Create a new root window. Set the title to \"Counter\"\n",
    "2. Define a variable \"counter\" and set it to zero\n",
    "3. Write a function add_to_counter(). It should add 1 to the counter and then output it to the console.\n",
    "4. Add a button with the text \"Add 1\" to the root window. When clicked, it should call add_to_counter().\n",
    "5. Pack the button and start the root window."
   ]
  },
  {
   "cell_type": "code",
   "execution_count": null,
   "id": "42af5bc3",
   "metadata": {},
   "outputs": [],
   "source": [
    "# Write your code below this line\n",
    "root_window = tk.Tk()\n",
    "counter = 0\n",
    "def add_to_counter():\n",
    "    global counter\n",
    "    counter += 1\n",
    "    print(counter)\n",
    "button = ttk.Button(root_window, text = \"Add 1\", command=add_to_counter)\n",
    "button.pack()\n",
    "root_window.mainloop()"
   ]
  },
  {
   "cell_type": "markdown",
   "id": "830f8366",
   "metadata": {},
   "source": [
    "## Using .config()\n",
    "\n",
    "So far, we've set all values for labels and buttons when they were created.\n",
    "But sometimes we want to change these values later in our code.\n",
    "With .config() we can edit our windows after creation!\n",
    "```py\n",
    "root_window = tk.Tk()\n",
    "label = ttk.Label(root_window, text=\"ABC\")\n",
    "label.pack()\n",
    "# ...\n",
    "label.config(text=\"DEF\")\n",
    "root_window.mainloop()\n",
    "```"
   ]
  },
  {
   "cell_type": "markdown",
   "id": "90664d9e",
   "metadata": {},
   "source": [
    "## 🎯 Exercise 6\n",
    "\n",
    "1. Create a new root window\n",
    "2. Add a button with `button = ttk.Button(root_window)`. **Don't set anything else here!**\n",
    "3. Pack the button\n",
    "4. Use button.config() to set the text to \"How's the weather outside?\"\n",
    "5. Write a function print_weather() that outputs the weather outside as a string. Look outside to find out what the weather is :)\n",
    "6. Use button.config() again to set the command to print_weather\n",
    "7. Start the main loop"
   ]
  },
  {
   "cell_type": "code",
   "execution_count": null,
   "id": "1c8ac112",
   "metadata": {},
   "outputs": [],
   "source": [
    "# Write your code below this line\n",
    "root_window = tk.Tk()\n",
    "def print_weather():\n",
    "    print(\"Cold but sunny\")\n",
    "button = ttk.Button(root_window)\n",
    "button.pack()\n",
    "button.config(text = \"How's the weather outside?\")\n",
    "button.config(command=print_weather)\n",
    "root_window.mainloop()"
   ]
  },
  {
   "cell_type": "markdown",
   "id": "da313483",
   "metadata": {},
   "source": [
    "## 🎯 Exercise 7\n",
    "\n",
    "Let's now combine Exercises 5 and 6 to write a button that changes a label with .config()\n",
    "\n",
    "1. Create a new root window\n",
    "2. Create a new label with the text \"Weather: Sunny and warm\"\n",
    "3. Create a new \"It's raining now\" button. When clicked, it should set the label's text to \"Weather: It's raining\"\n",
    "4. Pack the button and the label and start the main loop"
   ]
  },
  {
   "cell_type": "code",
   "execution_count": null,
   "id": "d4ffbcd9",
   "metadata": {},
   "outputs": [],
   "source": [
    "# Write your code below this line\n",
    "root_window = tk.Tk()\n",
    "label = ttk.Label(root_window, text=\"Weather: Sunny and warm\")\n",
    "def its_raining_now():\n",
    "    global label # This is technically not necessary\n",
    "    label.config(text = \"Weather: It's raining\")\n",
    "button = ttk.Button(root_window, text=\"It's raining now\", command=its_raining_now)\n",
    "label.pack()\n",
    "button.pack()\n",
    "root_window.mainloop()"
   ]
  },
  {
   "cell_type": "markdown",
   "id": "bf3f20d3",
   "metadata": {},
   "source": [
    "## User Input\n",
    "\n",
    "Until now, we could only read user input through `input` as a pop-up in Visual Studio Code.\n",
    "To get input within the GUI, we need a new widget: `ttk.Entry`, where users can enter text:\n",
    "\n",
    "```py\n",
    "root_window = tk.Tk()\n",
    "textbox = ttk.Entry(root_window)\n",
    "textbox.pack()\n",
    "textbox.focus() # Set focus (Then the user can type immediately, otherwise they have to click the field first)\n",
    "root_window.mainloop()\n",
    "```\n",
    "\n",
    "With `message = textbox.get()` we get the current input in the textbox and save it in a variable called message."
   ]
  },
  {
   "cell_type": "markdown",
   "id": "0d764b97",
   "metadata": {},
   "source": [
    "## Exercise 8\n",
    "\n",
    "1. Create a new window. Add two widgets: A textbox (`ttk.Entry`) and a button (`ttk.Button`)\n",
    "2. Give the button the text \"Read input\" and set its command to read the input with textbox.get() and then output it to the console.\n",
    "3. Pack the widgets and open the window with `root_window.mainloop()`"
   ]
  },
  {
   "cell_type": "code",
   "execution_count": null,
   "id": "5c36cdae",
   "metadata": {},
   "outputs": [],
   "source": [
    "# Write your code below this line\n",
    "root_window = tk.Tk()\n",
    "textbox = ttk.Entry(root_window)\n",
    "textbox.pack()\n",
    "textbox.focus() # Set focus (Then the user can type immediately, otherwise they have to click the field first)\n",
    "def read_input():\n",
    "    print(textbox.get())\n",
    "button = ttk.Button(root_window, text = \"Read input\", command=read_input)\n",
    "button.pack()\n",
    "root_window.mainloop()"
   ]
  }
 ],
 "metadata": {
  "jupytext": {
   "cell_metadata_filter": "-all",
   "main_language": "python",
   "notebook_metadata_filter": "-all"
  }
 },
 "nbformat": 4,
 "nbformat_minor": 5
}
