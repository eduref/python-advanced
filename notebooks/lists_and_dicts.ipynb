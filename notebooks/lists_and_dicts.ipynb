{
 "cells": [
  {
   "cell_type": "markdown",
   "metadata": {},
   "source": [
    "## Einführung in Listen und Dictionaries in Python\n",
    "\n",
    "In dieser Lektion werden wir uns mit Datentypen beschäftigen, die es uns ermöglichen mehrere Informationen, wie z.B. mehrere Zahlen oder Namen auf einmal abzuspeichern. In Python lässt sich dies gut mit Listen und Dictionaries umsetzen.\n",
    "\n",
    "### Warum brauchen wir Listen?\n",
    "\n",
    "Stell dir vor, du möchtest allen deinen Freunden eine Email schreiben. Nun könntest du in Python für jeden deiner Freunde eine Variable erstellen:  \n",
    "```python\n",
    "freund1 = \"anne\"\n",
    "freund2 = \"mustafa\"\n",
    "freund3 = \"steven\"\n",
    "```\n",
    "\n",
    "Dies ist aber sehr aufwendig. Vergleich dagegen mal den Code, wenn du stattdessen eine **Liste** verwendest: \n",
    "```python\n",
    "freunde = [\"anne\", \"mustafa\", \"steven\"]\n",
    "```\n",
    "Gleich viel besser, oder?\n",
    "Listen ermöglichen es uns also Daten effizient abzuspeichern und schnell auf diese zugreifen zu können.\n"
   ]
  },
  {
   "cell_type": "markdown",
   "metadata": {},
   "source": [
    "### Wie erstelle ich Listen?\n",
    "\n",
    "In python werden Listen ganz einfach mit den eckigen Klammern [] definiert: \n",
    "```python \n",
    "freunde = [\"anne\", \"mustafa\", \"steven\"]\n",
    "```\n",
    "\n",
    "<br>"
   ]
  },
  {
   "cell_type": "markdown",
   "metadata": {},
   "source": [
    "### Wie greife ich auf den Inhalt von Listen zu?\n",
    "\n",
    "In python können wir auf einzelne Elemente (also Einträge) von Listen zugreifen, in dem wir ihren Index angeben.\n",
    "Zum Beispiel \n",
    "```python \n",
    "freunde = [\"anne\", \"mustafa\", \"steven\"]\n",
    "print(freunde[0]) # hier wählen wir den index 0 und erhalten daher \"anne\" zurück\n",
    "print(freunde[2]) # hier wählen wir den index 0 und erhalten daher \"steven\" zurück\n",
    "# anne\n",
    "# steven\n",
    "```\n",
    "\n",
    "**Wichtig**: Denk daran, dass wir in python immer bei 0 anfangen zu zählen. Wenn wir also das erste Element ausgeben möchten, müssen wir freunde[0] verwenden\n"
   ]
  },
  {
   "cell_type": "markdown",
   "metadata": {},
   "source": [
    "### Aufgabe 1: Eine Einkaufsliste erstellen\n",
    "Erstelle eine Liste mit mindestens fünf Dingen, die du im Supermarkt kaufen möchtest, und gib die Liste aus.\n",
    "Greife auf das erste und das dritte Element deiner Einkaufsliste zu und gib sie aus."
   ]
  },
  {
   "cell_type": "code",
   "execution_count": null,
   "metadata": {},
   "outputs": [],
   "source": [
    "# erstelle hier deine liste und gib die elemente aus der liste aus"
   ]
  },
  {
   "cell_type": "markdown",
   "metadata": {},
   "source": [
    "<br> \n",
    "\n",
    "### Wie arbeite ich mit Listen?\n",
    "\n",
    "Auch nachdem du eine Liste erstellt hast, kannst du sie in Python noch bearbeiten. Beispielsweise um neue Freunde hinzuzufügen (: oder alte Freunde zu entfernen :(\n",
    "Neue Elemente kannst du mit **.append()** hinzufügen. Sie werden stets am Ende der Liste angehängt Zum Beispiel:\n",
    "```python \n",
    "freunde = [\"anne\", \"mustafa\", \"steven\"]\n",
    "freunde.append(\"iri\")\n",
    "print(freunde)\n",
    "# [\"anne\", \"mustafa\", \"steven\", \"iri\"]\n",
    "```\n",
    "<br>\n",
    "\n",
    "Elemente, die schon in der Liste sind, kannst du mit **.remove()** entfernen. Hierbei musst du den Index des Elements, welches gelöscht werden soll übergeben:\n",
    "```python \n",
    "freunde = [\"anne\", \"mustafa\", \"steven\"]\n",
    "freunde.remove(1)\n",
    "print(freunde)\n",
    "# [\"anne\", \"steven\"]\n",
    "```\n",
    "<br>\n",
    "\n",
    "Außerdem kannst du dir die Länge einer Liste ausgeben mit \n",
    "```python \n",
    "print(len(meine_liste))\n",
    "```\n",
    "\n",
    "<br>"
   ]
  },
  {
   "cell_type": "markdown",
   "metadata": {},
   "source": [
    "### Aufgabe 2: Deine Einkaufsliste anpassen\n",
    "Vewende hier wieder deine Einkaufsliste mit mindestens fünf Dingen, die du im Supermarkt kaufen möchtest (du kannst den Code einfach von oben kopieren). Entferne nun zwei Elemente (du kannst selber aussuchen welche) und füge drei neue Elemente hinzu. \\\n",
    "Gib dann noch die Länge der Liste aus"
   ]
  },
  {
   "cell_type": "code",
   "execution_count": null,
   "metadata": {},
   "outputs": [],
   "source": [
    "# arbeite hier mit der liste"
   ]
  },
  {
   "cell_type": "code",
   "execution_count": null,
   "metadata": {},
   "outputs": [],
   "source": [
    "freunde = [\"anne\", \"mustafa\", \"steven\"]\n",
    "freunde.remove(1)\n",
    "print(freunde)"
   ]
  },
  {
   "cell_type": "markdown",
   "metadata": {},
   "source": [
    "Sehr gut 🚀 Ich glaube du hast das Thema Listen gut verstanden. Falls du noch Fragen hast kannst du dich gerne jederzeit an einen unserer Tutoren wenden 😄 <br>\n",
    "Im nächsten Abschnitt geht es dann mit Dictionaries weiter.\n",
    "<br>\n",
    "\n",
    "<br>"
   ]
  },
  {
   "cell_type": "markdown",
   "metadata": {},
   "source": [
    "## Was sind Dictionaries?\n",
    "Mit Dictionaries können wir in Python ähnlich wie mit Listen einfach große Mengen an Daten abspeichern. Schauen wir uns erstmal an, was ein Dictionary ist: <br>\n",
    "Ein Dictionary besteht stets aus einem oder mehreren **key-value Paaren**. Dabei ist ein **value** immer ein Wert, den wir abspeichern möchten und ein **key** ein eindeutiger Schlüssel (wie ein Name oder eine ID), die es uns ermöglichen den jeweiligen Wert zu finden. <br>\n",
    "Stell dir vor, du möchtest nun die Augenfarben deiner drei Freunde *Anne* (blaue Augen), *Mustafa* (grüne Augen) und *Steven* (braune Augen) abspeichern. Hierbei wäre der **key** dann der Name deines Freundes (z.B. Anne) und der **value** die Augenfarbe (z.B. blau). <br> \n",
    "Ein Dictionary könnte dann wie folgt aussehen:\n",
    "```python\n",
    "meine_freunde = {\n",
    "    \"Anne\": \"blau\", \n",
    "    \"Mustafa\": \"grün\",\n",
    "    \"Steven\": \"braun\"\n",
    "    }\n",
    "```\n",
    "\n",
    "Hier sehen wir auch gleich einen großen Vorteil von Dictionaries: Durch den **key** können wir ganz gezielt auf bestimmte Daten zugreifen und müssen uns nicht mehr merken, an welchem Index welche Informationen zu finden sind. Wie wir mit Dictionaries arbeiten können siehst du unten"
   ]
  },
  {
   "cell_type": "markdown",
   "metadata": {},
   "source": [
    "### Wie arbeite ich mit Dictionaries?\n",
    "\n",
    "\n",
    "#### Erstellung eines Dictionaries\n",
    "Um ein Dictionarie zu erstellen verwenden wir die geschweiften Klammern `{}`. Innerhalb der Klammern zählen wir unsere key-value Paare auf, getrennt durch Kommas:\n",
    "```python\n",
    "meine_daten = {\"Name\": \"Alice\", \"Alter\": 25}\n",
    "print(meine_daten)\n",
    "```\n",
    "\n",
    "#### Zugriff auf Werte\n",
    "Um auf die Werte eines Dictionaries zuzugreifen verwenden wir die eckigen Klamemrn `[]` und den Key des jeweiligen Wertes, auf den wir zugreifen möchten\n",
    "```python\n",
    "print(meine_daten[\"Name\"])\n",
    "# Alice\n",
    "print(meine_daten[\"Alter\"])\n",
    "# 25\n",
    "```\n",
    "\n",
    "#### Werte hinzufügen oder ändern\n",
    "Um bestimmte values zu ändern oder neue values hinzuzufügen verwenden wir die eckigen Klammern `[]` und weisen mit `=` einen neuen Wert zu\n",
    "```python\n",
    "meine_daten[\"Beruf\"] = \"Entwickler\"\n",
    "print(meine_daten)\n",
    "#{\"Name\": \"Alice\", \"Alter\": 25, \"Beruf\": \"Entwickler\"}\n",
    "\n",
    "meine_daten[\"Alter\"] = 33\n",
    "print(meine_daten)\n",
    "#{\"Name\": \"Alice\", \"Alter\": 33, \"Beruf\": \"Entwickler\"}\n",
    "```"
   ]
  },
  {
   "cell_type": "markdown",
   "metadata": {},
   "source": [
    "### Aufgabe 3: Ein Dictionary für Kontakte erstellen\n",
    "Erstelle ein Dictionary, in dem du die Augenfarbe und das Alter von drei Freunden speicherst. Gib das Dictionary aus."
   ]
  },
  {
   "cell_type": "code",
   "execution_count": 2,
   "metadata": {},
   "outputs": [],
   "source": [
    "# erstelle hier dein dictionary"
   ]
  },
  {
   "cell_type": "markdown",
   "metadata": {},
   "source": [
    "### Aufgabe 4: Einen Kontakt ändern\n",
    "Einer deiner Freunde hat Geburtstag! Ändere sein Alter und gib das aktualisierte Dictionary aus."
   ]
  },
  {
   "cell_type": "code",
   "execution_count": 3,
   "metadata": {},
   "outputs": [],
   "source": [
    "# ändere hier das Alter eines deiner Freunde"
   ]
  },
  {
   "cell_type": "markdown",
   "metadata": {},
   "source": [
    "### Aufgabe 5: Teilnehmerliste erweitern\n",
    "Bei Eduref hast du einen neuen Freund gefunden ❤️ Frag deinen Sitznachbarn/ deine Sitznachbarin wie er/sie heißt und wie alt er/sie ist und füge sie zu dem dictionary hinzu "
   ]
  },
  {
   "cell_type": "code",
   "execution_count": 4,
   "metadata": {},
   "outputs": [],
   "source": [
    "# füge hier einen neuen Freund hinzu"
   ]
  },
  {
   "cell_type": "markdown",
   "metadata": {},
   "source": [
    "In einem Dictionary können wir auch kompliziertere Datentypen wie Listen oder sogar auch andere Dicitonaries speichern:\n",
    "```python\n",
    "teilnehmer_details = {\n",
    "    \"Freunde\": [{\"Name\": \"Emilia\", \"Alter\": 25}, {\"Name\": \"Bob\", \"Alter\": 30}]\n",
    "}\n",
    "```"
   ]
  },
  {
   "cell_type": "markdown",
   "metadata": {},
   "source": [
    "# Bonusübungen\n",
    "\n",
    "## Bonus 1: Wörter zählen\n",
    "Schreibe ein Programm, das eine Liste von Wörtern durchläuft und zählt, wie oft jedes Wort vorkommt. Speichere die Ergebnisse in einem Dictionary.\n",
    "\n",
    "Beispiel:\n",
    "```python\n",
    "woerter = [\"Apfel\", \"Banane\", \"Apfel\", \"Orange\", \"Banane\", \"Apfel\"]\n",
    "# Erwartete Ausgabe: {\"Apfel\": 3, \"Banane\": 2, \"Orange\": 1}\n",
    "```\n",
    "\n",
    "## Bonus 2: Teilnehmerdaten sortieren\n",
    "Erstelle ein Dictionary mit Namen und Alter von Teilnehmern. Schreibe ein Programm, das die Teilnehmer nach Alter sortiert und ausgibt.\n",
    "\n",
    "Beispiel:\n",
    "```python\n",
    "teilnehmer = {\n",
    "    \"Alice\": 25,\n",
    "    \"Bob\": 30,\n",
    "    \"Charlie\": 22\n",
    "}\n",
    "# Erwartete Ausgabe:\n",
    "# [('Charlie', 22), ('Alice', 25), ('Bob', 30)]"
   ]
  }
 ],
 "metadata": {
  "kernelspec": {
   "display_name": "EDUREF",
   "language": "python",
   "name": "python3"
  },
  "language_info": {
   "codemirror_mode": {
    "name": "ipython",
    "version": 3
   },
   "file_extension": ".py",
   "mimetype": "text/x-python",
   "name": "python",
   "nbconvert_exporter": "python",
   "pygments_lexer": "ipython3",
   "version": "3.13.0"
  }
 },
 "nbformat": 4,
 "nbformat_minor": 2
}
